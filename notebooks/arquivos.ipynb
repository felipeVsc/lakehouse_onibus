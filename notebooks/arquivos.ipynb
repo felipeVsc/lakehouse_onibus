{
 "cells": [
  {
   "cell_type": "code",
   "execution_count": 13,
   "metadata": {},
   "outputs": [
    {
     "name": "stdout",
     "output_type": "stream",
     "text": [
      "+-------------------+-------------------+--------------------+---------+-------+-------------------+--------------------+--------------------+\n",
      "|           latitude|          longitude|       tempo_captura|id_onibus|      c|                lt0|                 lt1|          inputFiles|\n",
      "+-------------------+-------------------+--------------------+---------+-------+-------------------+--------------------+--------------------+\n",
      "|         -23.552871|-46.647738000000004|2024-01-31T01:39:09Z|    71212|609F-10|TERM. PRINC. ISABEL|       CHÁC. SANTANA|file:///home/feli...|\n",
      "|        -23.6532175| -46.74036099999999|2024-01-31T01:38:46Z|    71739|609F-10|TERM. PRINC. ISABEL|       CHÁC. SANTANA|file:///home/feli...|\n",
      "|        -23.6680755|         -46.748797|2024-01-31T01:38:37Z|    71361|609F-10|TERM. PRINC. ISABEL|       CHÁC. SANTANA|file:///home/feli...|\n",
      "|         -23.534974|        -46.6443435|2024-01-31T01:38:55Z|    71740|609F-10|TERM. PRINC. ISABEL|       CHÁC. SANTANA|file:///home/feli...|\n",
      "|        -23.6168605| -46.70167549999999|2024-01-31T01:38:36Z|    71839|609F-10|TERM. PRINC. ISABEL|       CHÁC. SANTANA|file:///home/feli...|\n",
      "|      -23.574599125|        -46.6680825|2024-01-31T01:38:47Z|    71844|609F-10|TERM. PRINC. ISABEL|       CHÁC. SANTANA|file:///home/feli...|\n",
      "|-23.668001500000003|        -46.7491535|2024-01-31T01:38:41Z|    71860|609F-10|TERM. PRINC. ISABEL|       CHÁC. SANTANA|file:///home/feli...|\n",
      "|         -23.541446|-46.536075499999995|2024-01-31T01:39:06Z|    48788|407I-10|      METRÔ BRESSER|CONJ. MANOEL DA N...|file:///home/feli...|\n",
      "|-23.549667499999998|-46.483762999999996|2024-01-31T01:38:43Z|    48985|407I-10|      METRÔ BRESSER|CONJ. MANOEL DA N...|file:///home/feli...|\n",
      "|        -23.5433355| -46.48539675000001|2024-01-31T01:38:46Z|    48445|407I-10|      METRÔ BRESSER|CONJ. MANOEL DA N...|file:///home/feli...|\n",
      "|        -23.5955305|           -46.6799|2024-01-31T01:39:01Z|    63370|576M-10|          PINHEIROS|           VL. CLARA|file:///home/feli...|\n",
      "|        -23.6368035|         -46.641181|2024-01-31T01:38:57Z|    63366|576M-10|          PINHEIROS|           VL. CLARA|file:///home/feli...|\n",
      "|-23.678067499999997|-46.640125499999996|2024-01-31T01:39:07Z|    63367|576M-10|          PINHEIROS|           VL. CLARA|file:///home/feli...|\n",
      "|         -23.565959|        -46.6944145|2024-01-31T01:38:32Z|    63369|576M-10|          PINHEIROS|           VL. CLARA|file:///home/feli...|\n",
      "|-23.678067499999997|-46.640125499999996|2024-01-31T01:39:08Z|    63344|576M-10|          PINHEIROS|           VL. CLARA|file:///home/feli...|\n",
      "|         -23.570103|         -46.486686|2024-01-31T01:38:36Z|    45676|3778-10|       METRÔ CARRÃO|  JD. STA. TEREZINHA|file:///home/feli...|\n",
      "|        -23.5753505|-46.497097499999995|2024-01-31T01:38:30Z|    45474|3778-10|       METRÔ CARRÃO|  JD. STA. TEREZINHA|file:///home/feli...|\n",
      "|         -23.570103|         -46.486686|2024-01-31T01:38:58Z|    45530|3778-10|       METRÔ CARRÃO|  JD. STA. TEREZINHA|file:///home/feli...|\n",
      "|-23.568366875000002|       -46.50955725|2024-01-31T01:39:13Z|    45327|3778-10|       METRÔ CARRÃO|  JD. STA. TEREZINHA|file:///home/feli...|\n",
      "|       -23.67216275|        -46.6441475|2024-01-31T01:38:45Z|    68258|5702-10|    METRÔ JABAQUARA|REFÚGIO STA. TERE...|file:///home/feli...|\n",
      "|          -23.69827|         -46.646032|2024-01-31T01:39:08Z|    68884|5702-10|    METRÔ JABAQUARA|REFÚGIO STA. TERE...|file:///home/feli...|\n",
      "|        -23.6980845|        -46.6460855|2024-01-31T01:38:52Z|    68888|5702-10|    METRÔ JABAQUARA|REFÚGIO STA. TERE...|file:///home/feli...|\n",
      "|-23.543414499999997|-46.464752000000004|2024-01-31T01:38:45Z|    36153|407T-10|     METRÔ ITAQUERA|           JD. REDIL|file:///home/feli...|\n",
      "|       -23.53781325|       -46.44005625|2024-01-31T01:38:31Z|    36325|407T-10|     METRÔ ITAQUERA|           JD. REDIL|file:///home/feli...|\n",
      "|        -23.5429455|       -46.46791075|2024-01-31T01:38:43Z|    36687|407T-10|     METRÔ ITAQUERA|           JD. REDIL|file:///home/feli...|\n",
      "|        -23.5384515|       -46.44110425|2024-01-31T01:38:55Z|    36595|407T-10|     METRÔ ITAQUERA|           JD. REDIL|file:///home/feli...|\n",
      "|-23.520215999999998|-46.700196000000005|2024-01-31T01:39:03Z|    11459|8300-10|         TERM. LAPA|      TERM. PIRITUBA|file:///home/feli...|\n",
      "|        -23.4935255|        -46.7093165|2024-01-31T01:39:03Z|    11720|8300-10|         TERM. LAPA|      TERM. PIRITUBA|file:///home/feli...|\n",
      "|-23.520215999999998|-46.700196000000005|2024-01-31T01:38:55Z|    11877|8300-10|         TERM. LAPA|      TERM. PIRITUBA|file:///home/feli...|\n",
      "|       -23.52114525|       -46.38738525|2024-01-31T01:38:52Z|    36039|2008-10|CPTM ITAIM PAULISTA|JD. NSA. SRA. DO ...|file:///home/feli...|\n",
      "|       -23.49986375|         -46.399138|2024-01-31T01:38:52Z|    36019|2008-10|CPTM ITAIM PAULISTA|JD. NSA. SRA. DO ...|file:///home/feli...|\n",
      "|       -23.52026875|          -46.38865|2024-01-31T01:38:50Z|    36060|2008-10|CPTM ITAIM PAULISTA|JD. NSA. SRA. DO ...|file:///home/feli...|\n",
      "|       -23.52114525|       -46.38738525|2024-01-31T01:38:41Z|    36086|2008-10|CPTM ITAIM PAULISTA|JD. NSA. SRA. DO ...|file:///home/feli...|\n",
      "|        -23.6469585|        -46.6748945|2024-01-31T01:38:44Z|    63676|5652-10|         PÇA. DA SÉ|   JD. IV CENTENÁRIO|file:///home/feli...|\n",
      "|-23.597020999999998|       -46.65102775|2024-01-31T01:39:09Z|    63269|5652-10|         PÇA. DA SÉ|   JD. IV CENTENÁRIO|file:///home/feli...|\n",
      "|         -23.711728|         -46.686792|2024-01-31T01:39:08Z|    63162|5652-10|         PÇA. DA SÉ|   JD. IV CENTENÁRIO|file:///home/feli...|\n",
      "|       -23.67923275|        -46.6859935|2024-01-31T01:38:37Z|    63334|5652-10|         PÇA. DA SÉ|   JD. IV CENTENÁRIO|file:///home/feli...|\n",
      "|-23.522572250000003| -46.66452174999999|2024-01-31T01:38:28Z|    11707|978L-10|TERM. PRINC. ISABEL|  TERM. CACHOEIRINHA|file:///home/feli...|\n",
      "|-23.521850999999998|        -46.4244515|2024-01-31T01:38:27Z|    32844|273V-10|        METRÔ PENHA|PARADA XV DE NOVE...|file:///home/feli...|\n",
      "|-23.519732749999996|-46.437813375000005|2024-01-31T01:39:05Z|    32874|273V-10|        METRÔ PENHA|PARADA XV DE NOVE...|file:///home/feli...|\n",
      "|      -23.489837625|       -46.76664975|2024-01-31T01:38:39Z|    16429|8013-10|               LAPA|  TERM. JD. BRITANIA|file:///home/feli...|\n",
      "|        -23.5134245|-46.726335000000006|2024-01-31T01:38:18Z|    16376|8013-10|               LAPA|  TERM. JD. BRITANIA|file:///home/feli...|\n",
      "|      -23.436305125|        -46.7860735|2024-01-31T01:38:52Z|    16349|8013-10|               LAPA|  TERM. JD. BRITANIA|file:///home/feli...|\n",
      "|         -23.516265|         -46.587981|2024-01-31T01:39:03Z|    26507|172J-10|            TATUAPÉ|          JD. BRASIL|file:///home/feli...|\n",
      "|         -23.489365|       -46.56996025|2024-01-31T01:35:15Z|    26105|172J-10|            TATUAPÉ|          JD. BRASIL|file:///home/feli...|\n",
      "|         -23.531266|-46.578759250000004|2024-01-31T01:38:46Z|    26521|172J-10|            TATUAPÉ|          JD. BRASIL|file:///home/feli...|\n",
      "|        -23.5306105|-46.583994000000004|2024-01-31T01:39:02Z|    26420|172J-10|            TATUAPÉ|          JD. BRASIL|file:///home/feli...|\n",
      "|-23.479367500000002|         -46.568922|2024-01-31T01:38:50Z|    26305|172J-10|            TATUAPÉ|          JD. BRASIL|file:///home/feli...|\n",
      "|        -23.6146805|         -46.470593|2024-01-31T01:38:55Z|    55012|3099-10|   JD. DA CONQUISTA|    HOSP. SÃO MATEUS|file:///home/feli...|\n",
      "|-23.593412875000002|-46.488488499999995|2024-01-31T01:38:41Z|    55017|3099-10|   JD. DA CONQUISTA|    HOSP. SÃO MATEUS|file:///home/feli...|\n",
      "+-------------------+-------------------+--------------------+---------+-------+-------------------+--------------------+--------------------+\n",
      "only showing top 50 rows\n",
      "\n"
     ]
    },
    {
     "data": {
      "text/plain": [
       "['latitude',\n",
       " 'longitude',\n",
       " 'tempo_captura',\n",
       " 'id_onibus',\n",
       " 'c',\n",
       " 'lt0',\n",
       " 'lt1',\n",
       " 'inputFiles']"
      ]
     },
     "execution_count": 13,
     "metadata": {},
     "output_type": "execute_result"
    }
   ],
   "source": [
    "from pyspark.sql import *\n",
    "from delta import *\n",
    "from pyspark.sql.functions import input_file_name\n",
    "\n",
    "builder = SparkSession.builder.appName(\"topicos\").config(\"spark.sql.extensions\",\"io.delta.sql.DeltaSparkSessionExtension\").config(\"spark.sql.catalog.spark_catalog\",\"org.apache.spark.sql.delta.catalog.DeltaCatalog\")\n",
    "spark = configure_spark_with_delta_pip(builder).getOrCreate()\n",
    "\n",
    "INPUT_PATH = \"/home/felipe/code/topicos_dados/dados/\"\n",
    "BRONZE_PATH = \"/home/felipe/code/deltalake/lake/bronze/\"\n",
    "SILVER_PATH = \"/home/felipe/code/deltalake/lake/silver/\"\n",
    "\n",
    "def teste():\n",
    "    return input_file_name()\n",
    "\n",
    "sp = spark.read.format(\"parquet\").option(\"inferSchema\",\"true\").option(\"header\",\"true\").load(f\"{INPUT_PATH}/sp_micro\").withColumn(\"inputFiles\",input_file_name())\n",
    "sp.show(50)\n",
    "sp.columns\n"
   ]
  },
  {
   "cell_type": "code",
   "execution_count": null,
   "metadata": {},
   "outputs": [],
   "source": []
  },
  {
   "cell_type": "code",
   "execution_count": 12,
   "metadata": {},
   "outputs": [
    {
     "name": "stdout",
     "output_type": "stream",
     "text": [
      "+--------------------+\n",
      "|          inputFiles|\n",
      "+--------------------+\n",
      "|file:///home/feli...|\n",
      "|file:///home/feli...|\n",
      "|file:///home/feli...|\n",
      "|file:///home/feli...|\n",
      "|file:///home/feli...|\n",
      "+--------------------+\n",
      "only showing top 5 rows\n",
      "\n"
     ]
    }
   ],
   "source": [
    "sp = spark.read.format(\"parquet\").option(\"inferSchema\",\"true\").option(\"header\",\"true\").load(f\"{INPUT_PATH}/sp_micro\").withColumn(\"inputFiles\",input_file_name())\n",
    "sp.select(\"inputFiles\").show(5)\n",
    "\n"
   ]
  },
  {
   "cell_type": "code",
   "execution_count": 6,
   "metadata": {},
   "outputs": [
    {
     "name": "stdout",
     "output_type": "stream",
     "text": [
      "+----------+----------+-------------+---------+----------+-------+----------+-----+--------------------+\n",
      "| longitude|  latitude|tempo_captura|id_onibus|velocidade|sentido|   direcao|linha|          inputFiles|\n",
      "+----------+----------+-------------+---------+----------+-------+----------+-----+--------------------+\n",
      "| -47.64034| -15.61314|1706937874000|   117315|      NULL|    IDA|165.963756|     |file:///home/feli...|\n",
      "|-48.031384|-16.022823|1706937862000|   228885|      NULL|   NULL|       0.0|     |file:///home/feli...|\n",
      "|-48.032143|-16.023239|1706937860000|   232297|      NULL|   NULL|       0.0|     |file:///home/feli...|\n",
      "|  -48.0327|-16.024405|1706937860000|   233030|      NULL|   NULL|       0.0|     |file:///home/feli...|\n",
      "|-47.765854|-15.737126|1706937860000|   226947|      NULL|   NULL|       0.0|     |file:///home/feli...|\n",
      "|-48.056816|-16.006245|1706937860000|   227897|      NULL|   NULL|       0.0|     |file:///home/feli...|\n",
      "|-48.056725|-16.005779|1706937860000|   232271|      NULL|   NULL|       0.0|     |file:///home/feli...|\n",
      "|-48.056786|-16.006355|1706937860000|   233099|      NULL|   NULL|       0.0|     |file:///home/feli...|\n",
      "|-47.756508|-15.912964|1706937860000|   231924|      NULL|   NULL|       0.0|     |file:///home/feli...|\n",
      "|-48.056782|-16.006021|1706937860000|   228192|      NULL|   NULL|    264.51|     |file:///home/feli...|\n",
      "|-48.082588|-16.008726|1706937860000|   232190|      NULL|  VOLTA|    182.44|0.224|file:///home/feli...|\n",
      "|-48.056744| -16.00605|1706937860000|   228010|      NULL|   NULL|       0.0|     |file:///home/feli...|\n",
      "|-47.756573|-15.913487|1706937860000|   232670|      NULL|   NULL|       0.0|     |file:///home/feli...|\n",
      "|-47.757732|-15.912748|1706937860000|   229865|      NULL|   NULL|       0.0|     |file:///home/feli...|\n",
      "|-47.756134|-15.913216|1706937860000|   229709|      NULL|   NULL|       0.0|     |file:///home/feli...|\n",
      "|-48.033215|-16.025249|1706937860000|   228923|      NULL|   NULL|       0.0|     |file:///home/feli...|\n",
      "|-48.057163|-16.006445|1706937860000|   231380|      NULL|   NULL|       0.0|     |file:///home/feli...|\n",
      "| -48.13702|-15.788708|1706937860000|   233889|      NULL|   NULL|       0.0|     |file:///home/feli...|\n",
      "|-48.031906|-16.022898|1706937860000|   229067|      NULL|   NULL|       0.0|     |file:///home/feli...|\n",
      "|-48.031857|-16.023081|1706937860000|   228613|      NULL|   NULL|    124.66|     |file:///home/feli...|\n",
      "| -48.05677|-16.005957|1706937860000|   229954|      NULL|   NULL|       0.0|     |file:///home/feli...|\n",
      "|-47.755577|-15.913692|1706937860000|   227676|      NULL|   NULL|       0.0|     |file:///home/feli...|\n",
      "|-48.031673|-16.022837|1706937860000|   232343|      NULL|   NULL|    126.97|     |file:///home/feli...|\n",
      "|-48.057571|-16.006266|1706937860000|   227315|      NULL|   NULL|       0.0|     |file:///home/feli...|\n",
      "|-47.766327|-15.737505|1706937860000|   229636|      NULL|   NULL|   -315.98|     |file:///home/feli...|\n",
      "|-47.765141|-15.735734|1706937860000|   231703|      NULL|   NULL|       0.0|     |file:///home/feli...|\n",
      "|-47.765381|-15.735957|1706937860000|   231631|      NULL|   NULL|       0.0|     |file:///home/feli...|\n",
      "|-47.766457|-15.737392|1706937860000|   229717|      NULL|   NULL|       0.0|     |file:///home/feli...|\n",
      "|-48.031597| -16.02276|1706937860000|   228982|      NULL|   NULL|       0.0|     |file:///home/feli...|\n",
      "|-48.056805|-16.006371|1706937860000|   230022|      NULL|   NULL|    277.51|     |file:///home/feli...|\n",
      "|-47.756176|-15.913734|1706937860000|   231983|      NULL|   NULL|       0.0|     |file:///home/feli...|\n",
      "|-47.756126|-15.913063|1706937860000|   227170|      NULL|   NULL|       0.0|     |file:///home/feli...|\n",
      "| -48.03162|-16.022661|1706937860000|   230154|      NULL|   NULL|       0.0|     |file:///home/feli...|\n",
      "|-47.755974|-15.913167|1706937860000|   227820|      NULL|   NULL|       0.0|     |file:///home/feli...|\n",
      "|-48.033207|-16.025192|1706937860000|   232467|      NULL|   NULL|       0.0|     |file:///home/feli...|\n",
      "|-48.056789|-16.006258|1706937860000|   228206|      NULL|   NULL|    271.89|     |file:///home/feli...|\n",
      "|-48.032173|-16.023304|1706937860000|   229261|      NULL|   NULL|     82.52|     |file:///home/feli...|\n",
      "|-48.031952|-16.023241|1706937860000|   229407|      NULL|   NULL|       0.0|     |file:///home/feli...|\n",
      "|-48.056664|-16.005777|1706937860000|   232645|      NULL|   NULL|    279.76|     |file:///home/feli...|\n",
      "| -47.75626|-15.913774|1706937860000|   232009|      NULL|   NULL|    248.86|     |file:///home/feli...|\n",
      "|-47.756401|-15.912928|1706937860000|   229539|      NULL|   NULL|    176.16|     |file:///home/feli...|\n",
      "|-47.756241|-15.913409|1706937860000|   231975|      NULL|   NULL|    279.33|     |file:///home/feli...|\n",
      "|-47.757679|-15.912765|1706937860000|   229831|      NULL|   NULL|    137.83|     |file:///home/feli...|\n",
      "| -48.03318|-16.025146|1706937860000|   228168|      NULL|   NULL|    109.76|     |file:///home/feli...|\n",
      "|-47.757778|-15.912959|1706937860000|   228745|      NULL|   NULL|      22.2|     |file:///home/feli...|\n",
      "|-47.755833| -15.91346|1706937860000|   227803|      NULL|   NULL|     39.34|     |file:///home/feli...|\n",
      "|-47.756042|-15.913161|1706937860000|   227323|      NULL|   NULL|    229.21|     |file:///home/feli...|\n",
      "|-47.757088|-15.912992|1706937860000|   228419|      NULL|   NULL|     35.04|     |file:///home/feli...|\n",
      "|-47.755577|-15.913571|1706937860000|   227994|      NULL|   NULL|    270.55|     |file:///home/feli...|\n",
      "|-48.033142|-16.025103|1706937860000|   229016|      NULL|   NULL|    105.06|     |file:///home/feli...|\n",
      "+----------+----------+-------------+---------+----------+-------+----------+-----+--------------------+\n",
      "only showing top 50 rows\n",
      "\n"
     ]
    },
    {
     "data": {
      "text/plain": [
       "['longitude',\n",
       " 'latitude',\n",
       " 'tempo_captura',\n",
       " 'id_onibus',\n",
       " 'velocidade',\n",
       " 'sentido',\n",
       " 'direcao',\n",
       " 'linha',\n",
       " 'inputFiles']"
      ]
     },
     "execution_count": 6,
     "metadata": {},
     "output_type": "execute_result"
    }
   ],
   "source": [
    "# CWB \n",
    "\n",
    "from pyspark.sql import *\n",
    "from delta import *\n",
    "from pyspark.sql.functions import input_file_name\n",
    "\n",
    "builder = SparkSession.builder.appName(\"topicos\").config(\"spark.sql.extensions\",\"io.delta.sql.DeltaSparkSessionExtension\").config(\"spark.sql.catalog.spark_catalog\",\"org.apache.spark.sql.delta.catalog.DeltaCatalog\")\n",
    "spark = configure_spark_with_delta_pip(builder).getOrCreate()\n",
    "\n",
    "INPUT_PATH = \"/home/felipe/code/topicos_dados/dados/\"\n",
    "BRONZE_PATH = \"/home/felipe/code/deltalake/lake/bronze/\"\n",
    "SILVER_PATH = \"/home/felipe/code/deltalake/lake/silver/\"\n",
    "\n",
    "def teste():\n",
    "    return input_file_name()\n",
    "\n",
    "sp = spark.read.format(\"parquet\").option(\"inferSchema\",\"true\").option(\"header\",\"true\").load(f\"/home/felipe/code/topicos_dados/dados/df_micro/1706937873.114361.parquet\").withColumn(\"inputFiles\",input_file_name())\n",
    "sp = sp.sort(sp[\"tempo_captura\"],ascending=False)\n",
    "sp.show(50)\n",
    "sp.columns\n"
   ]
  },
  {
   "cell_type": "code",
   "execution_count": 11,
   "metadata": {},
   "outputs": [
    {
     "name": "stdout",
     "output_type": "stream",
     "text": [
      "+---------+----------+----------+-------------+--------------+-----+----------+---------------+--------+------+--------+--------------------+--------------------+\n",
      "|id_onibus|  latitude| longitude|tempo_captura|  tipo_veiculo|linha|  situacao|     situacao_2| sentido|tabela|adaptado|          inputFiles|               teste|\n",
      "+---------+----------+----------+-------------+--------------+-----+----------+---------------+--------+------+--------+--------------------+--------------------+\n",
      "|    JI859|-25.453483| -49.28948|        22:42|MICRO ESPECIAL|  762|NO HORÁRIO|REALIZANDO ROTA|   VOLTA|   2-2|       1|file:///home/feli...|2024-01-30T22:42:22Z|\n",
      "|    DN603|-25.481223|-49.196893|        22:38|MICRO ESPECIAL|  463|NO HORÁRIO|REALIZANDO ROTA|     IDA|     2|       1|file:///home/feli...|2024-01-30T22:42:22Z|\n",
      "|    DN608|-25.432205|  -49.2658|        22:42|MICRO ESPECIAL|  463|NO HORÁRIO|REALIZANDO ROTA|   VOLTA|     4|       1|file:///home/feli...|2024-01-30T22:42:22Z|\n",
      "|    GB611|-25.514096|-49.322986|        22:42|    ARTICULADO|  040|NO HORÁRIO|REALIZANDO ROTA|   VOLTA|     5|       1|file:///home/feli...|2024-01-30T22:42:22Z|\n",
      "|    JB604|-25.449036|-49.365315|        22:42|    ARTICULADO|  REC|          |               |        |      |       1|file:///home/feli...|2024-01-30T22:42:22Z|\n",
      "|    HB609|-25.516875|-49.318451|        22:42|    ARTICULADO|  040|NO HORÁRIO|REALIZANDO ROTA|     IDA|    12|       1|file:///home/feli...|2024-01-30T22:42:22Z|\n",
      "|    JB607|-25.401065|-49.334415|        22:42|    ARTICULADO|  040|NO HORÁRIO|REALIZANDO ROTA|   VOLTA|    10|       1|file:///home/feli...|2024-01-30T22:42:22Z|\n",
      "|    JB608|-25.441675| -49.34608|        22:42|    ARTICULADO|  040|NO HORÁRIO|REALIZANDO ROTA|   VOLTA|    17|       1|file:///home/feli...|2024-01-30T22:42:22Z|\n",
      "|    HB694|-25.494071|-49.324508|        22:42|    ARTICULADO|  040|NO HORÁRIO|REALIZANDO ROTA|     IDA|   3-2|       1|file:///home/feli...|2024-01-30T22:42:22Z|\n",
      "|    HB606|-25.477678|-49.332613|        22:42|    ARTICULADO|  040|  ATRASADO|REALIZANDO ROTA|   VOLTA|  22-2|       1|file:///home/feli...|2024-01-30T22:42:22Z|\n",
      "|    JB610|-25.453843|-49.348961|        22:42|    ARTICULADO|  040|NO HORÁRIO|REALIZANDO ROTA|     IDA|   2-2|       1|file:///home/feli...|2024-01-30T22:42:22Z|\n",
      "|    JI603|-25.419908|-49.348435|        22:42|    ARTICULADO|  040|NO HORÁRIO|REALIZANDO ROTA|     IDA|     6|       1|file:///home/feli...|2024-01-30T22:42:22Z|\n",
      "|    JC313|-25.483838|-49.349955|        22:42|        PADRON|  703|NO HORÁRIO|REALIZANDO ROTA|   VOLTA|   7-2|       1|file:///home/feli...|2024-01-30T22:42:22Z|\n",
      "|    EL313|-25.437491|-49.261078|        22:42|        PADRON|  507|NO HORÁRIO|REALIZANDO ROTA|CIRCULAR|     6|       0|file:///home/feli...|2024-01-30T22:42:22Z|\n",
      "|    EL320|-25.524845| -49.24804|        22:41|        PADRON|  507|NO HORÁRIO|REALIZANDO ROTA|CIRCULAR|    12|       1|file:///home/feli...|2024-01-30T22:42:22Z|\n",
      "|    EL323|-25.453988|-49.258961|        22:39|        PADRON|  507|NO HORÁRIO|REALIZANDO ROTA|CIRCULAR|   9-2|       1|file:///home/feli...|2024-01-30T22:42:22Z|\n",
      "|    EL319|-25.511368|-49.294335|        22:41|        PADRON|  507|NO HORÁRIO|REALIZANDO ROTA|CIRCULAR|   1-2|       1|file:///home/feli...|2024-01-30T22:42:22Z|\n",
      "|    BC009| -25.43062|-49.281191|        22:41|         COMUM|  870|NO HORÁRIO|REALIZANDO ROTA|     IDA|     2|       1|file:///home/feli...|2024-01-30T22:42:22Z|\n",
      "|    BA014|-25.430041|-49.350676|        22:42|         COMUM|  870|  ATRASADO|REALIZANDO ROTA|   VOLTA|     3|       1|file:///home/feli...|2024-01-30T22:42:22Z|\n",
      "|    HI039|-25.499676|-49.347065|        22:42|         COMUM|  658|NO HORÁRIO|REALIZANDO ROTA|     IDA|     2|       1|file:///home/feli...|2024-01-30T22:42:22Z|\n",
      "+---------+----------+----------+-------------+--------------+-----+----------+---------------+--------+------+--------+--------------------+--------------------+\n",
      "only showing top 20 rows\n",
      "\n"
     ]
    },
    {
     "data": {
      "text/plain": [
       "StructType([StructField('id_onibus', StringType(), True), StructField('latitude', StringType(), True), StructField('longitude', StringType(), True), StructField('tempo_captura', StringType(), True), StructField('tipo_veiculo', StringType(), True), StructField('linha', StringType(), True), StructField('situacao', StringType(), True), StructField('situacao_2', StringType(), True), StructField('sentido', StringType(), True), StructField('tabela', StringType(), True), StructField('adaptado', StringType(), True), StructField('inputFiles', StringType(), False), StructField('teste', StringType(), True)])"
      ]
     },
     "execution_count": 11,
     "metadata": {},
     "output_type": "execute_result"
    }
   ],
   "source": [
    "# CWB \n",
    "\n",
    "from pyspark.sql import *\n",
    "from delta import *\n",
    "from pyspark.sql.functions import input_file_name, udf, col\n",
    "from pyspark.sql.types import StringType\n",
    "from datetime import datetime, timedelta\n",
    "\n",
    "builder = SparkSession.builder.appName(\"topicos\").config(\"spark.sql.extensions\",\"io.delta.sql.DeltaSparkSessionExtension\").config(\"spark.sql.catalog.spark_catalog\",\"org.apache.spark.sql.delta.catalog.DeltaCatalog\")\n",
    "spark = configure_spark_with_delta_pip(builder).getOrCreate()\n",
    "\n",
    "INPUT_PATH = \"/home/felipe/code/topicos_dados/dados/\"\n",
    "BRONZE_PATH = \"/home/felipe/code/deltalake/lake/bronze/\"\n",
    "SILVER_PATH = \"/home/felipe/code/deltalake/lake/silver/\"\n",
    "\n",
    "\n",
    "def addTimestampQueryTime(filenames):\n",
    "    \"\"\" \n",
    "    Add the column \"query_timestamp\" indicating the timestamp\n",
    "    \n",
    "    file:///home/felipe/code/topicos_dados/dados/cb_micro/1706665101.9679544.parquet -> 1706665101.9679544\n",
    "    \"\"\"\n",
    "    file_name = str(filenames)[54:-8]\n",
    "    time = (datetime.fromtimestamp(float(file_name))).strftime(\"%Y-%m-%dT%H:%M:%SZ\")\n",
    "    return time\n",
    "\n",
    "udf_teste = udf(addTimestampQueryTime,StringType())\n",
    "\n",
    "sp = spark.read.format(\"parquet\").option(\"inferSchema\",\"true\").option(\"header\",\"true\").load(f\"{INPUT_PATH}/cb_micro\").withColumn(\"inputFiles\",input_file_name())\n",
    "sp = sp.withColumn(\"teste\",udf_teste(col(\"inputFiles\")))\n",
    "sp.show(20)\n",
    "sp.schema\n",
    "\n"
   ]
  },
  {
   "cell_type": "code",
   "execution_count": 3,
   "metadata": {},
   "outputs": [
    {
     "name": "stdout",
     "output_type": "stream",
     "text": [
      "+---------+---------+-------------+---------+----------+-------+----------+-----+--------------------+\n",
      "| latitude|longitude|tempo_captura|id_onibus|velocidade|sentido|   direcao|linha|          inputFiles|\n",
      "+---------+---------+-------------+---------+----------+-------+----------+-----+--------------------+\n",
      "|-47.90738|-15.73597|1707405026000|   340057|       0.0|  VOLTA|5.71059313|0.054|file:///home/feli...|\n",
      "|-48.12336|-15.89946|1707535032000|   335681|       0.0|  VOLTA|104.036243|     |file:///home/feli...|\n",
      "|-48.02328|-15.87568|1707605115000|   340014|       0.0|  VOLTA| 241.38954|     |file:///home/feli...|\n",
      "|-48.10841|-15.92123|1707740529000|   340260|       0.0|  VOLTA|326.915147|     |file:///home/feli...|\n",
      "| -48.1233| -15.8995|1707752939000|   336751|       0.0|    IDA|63.4349488|     |file:///home/feli...|\n",
      "|-48.12349| -15.9002|1707803452000|   336726|       0.0|    IDA|318.814074|     |file:///home/feli...|\n",
      "|-48.10838|-15.92085|1707831623000|   337625|       0.0|  VOLTA|57.4499965|     |file:///home/feli...|\n",
      "| -48.1076|-15.92118|1707839053000|   337846|       0.0|  VOLTA|333.434948|     |file:///home/feli...|\n",
      "| -48.1076|-15.92118|1707839617000|   339431|       0.0|  VOLTA|       0.0|     |file:///home/feli...|\n",
      "|-48.10768| -15.9206|1707841273000|   339555|       0.0|    IDA|      45.0|     |file:///home/feli...|\n",
      "|-48.10768| -15.9206|1707842630000|   339440|       0.0|    IDA|58.3924977|     |file:///home/feli...|\n",
      "|-48.10748|-15.92155|1707860503000|   337633|       0.0|  VOLTA|153.434948|     |file:///home/feli...|\n",
      "|-48.10747|-15.92157|1707861072000|   337749|       0.0|    IDA|51.6179872|     |file:///home/feli...|\n",
      "|-48.10761|-15.92195|1707861666000|   339512|       0.0|    IDA|       0.0|     |file:///home/feli...|\n",
      "| -48.1074|-15.92143|1707862007000|   337820|       0.0|  VOLTA|339.443954|     |file:///home/feli...|\n",
      "|-48.10748|-15.92165|1707862338000|   337498|       0.0|    IDA|       0.0|     |file:///home/feli...|\n",
      "|-48.10741|-15.92148|1707862650000|   336980|       0.0|    IDA|159.443954|     |file:///home/feli...|\n",
      "|-48.10782|-15.92191|1707862668000|   339482|       0.0|  VOLTA|340.016893|     |file:///home/feli...|\n",
      "|-48.10779|-15.92199|1707863308000|   339504|       0.0|    IDA|56.3099324|     |file:///home/feli...|\n",
      "|-48.10775|-15.92201|1707863354000|   339571|       0.0|  VOLTA| 248.19859|     |file:///home/feli...|\n",
      "+---------+---------+-------------+---------+----------+-------+----------+-----+--------------------+\n",
      "only showing top 20 rows\n",
      "\n"
     ]
    },
    {
     "data": {
      "text/plain": [
       "StructType([StructField('latitude', DoubleType(), True), StructField('longitude', DoubleType(), True), StructField('tempo_captura', LongType(), True), StructField('id_onibus', StringType(), True), StructField('velocidade', DoubleType(), True), StructField('sentido', StringType(), True), StructField('direcao', DoubleType(), True), StructField('linha', StringType(), True), StructField('inputFiles', StringType(), False)])"
      ]
     },
     "execution_count": 3,
     "metadata": {},
     "output_type": "execute_result"
    }
   ],
   "source": [
    "# BSB\n",
    "\n",
    "from pyspark.sql import *\n",
    "from delta import *\n",
    "from pyspark.sql.functions import input_file_name, udf, col\n",
    "from pyspark.sql.types import StringType\n",
    "from datetime import datetime, timedelta\n",
    "\n",
    "builder = SparkSession.builder.appName(\"topicos\").config(\"spark.sql.extensions\",\"io.delta.sql.DeltaSparkSessionExtension\").config(\"spark.sql.catalog.spark_catalog\",\"org.apache.spark.sql.delta.catalog.DeltaCatalog\")\n",
    "spark = configure_spark_with_delta_pip(builder).getOrCreate()\n",
    "\n",
    "INPUT_PATH = \"/home/felipe/code/topicos_dados/dados/\"\n",
    "BRONZE_PATH = \"/home/felipe/code/deltalake/lake/bronze/\"\n",
    "SILVER_PATH = \"/home/felipe/code/deltalake/lake/silver/\"\n",
    "\n",
    "\n",
    "# def addTimestampQueryTime(filenames):\n",
    "#     \"\"\" \n",
    "#     Add the column \"query_timestamp\" indicating the timestamp\n",
    "    \n",
    "#     file:///home/felipe/code/topicos_dados/dados/cb_micro/1706665101.9679544.parquet -> 1706665101.9679544\n",
    "#     \"\"\"\n",
    "#     file_name = str(filenames)[54:-8]\n",
    "#     time = (datetime.fromtimestamp(float(file_name))).strftime(\"%Y-%m-%dT%H:%M:%SZ\")\n",
    "#     return time\n",
    "\n",
    "udf_teste = udf(addTimestampQueryTime,StringType())\n",
    "\n",
    "sp = spark.read.format(\"parquet\").option(\"inferSchema\",\"true\").option(\"header\",\"true\").load(f\"/home/felipe/coleta2/df/1707879540.8172524.parquet\").withColumn(\"inputFiles\",input_file_name())\n",
    "# sp = sp.withColumn(\"teste\",udf_teste(col(\"inputFiles\")))\n",
    "sp.show(20)\n",
    "sp.schema\n",
    "\n"
   ]
  },
  {
   "cell_type": "code",
   "execution_count": 16,
   "metadata": {},
   "outputs": [
    {
     "name": "stdout",
     "output_type": "stream",
     "text": [
      "+---------+---------+-------------+---------+----------+-----+--------------------+--------------------+\n",
      "| latitude|longitude|tempo_captura|id_onibus|velocidade|linha|          inputFiles|               teste|\n",
      "+---------+---------+-------------+---------+----------+-----+--------------------+--------------------+\n",
      "|-22,91606|-43,23063|1706751706000|   A29134|        37|  711|file:///home/feli...|2024-01-31T22:43:00Z|\n",
      "|-22,97236|-43,18777|1706751709000|   A29108|        35|  473|file:///home/feli...|2024-01-31T22:43:00Z|\n",
      "|-22,89427|-43,19073|1706751705000|   A29185|        38|  350|file:///home/feli...|2024-01-31T22:43:00Z|\n",
      "|-22,84925|-43,33784|1706751708000|   A29034|        29|  711|file:///home/feli...|2024-01-31T22:43:00Z|\n",
      "|-22,89272|-43,21592|1706751705000|   A29182|        37|  209|file:///home/feli...|2024-01-31T22:43:00Z|\n",
      "|-22,91143|-43,21638|1706751710000|   A29192|        25|  457|file:///home/feli...|2024-01-31T22:43:00Z|\n",
      "|-22,89258|-43,23858|1706751709000|   A29018|         9|  472|file:///home/feli...|2024-01-31T22:43:00Z|\n",
      "|-22,84079|-43,30468|1706751711000|   A29191|        27|  350|file:///home/feli...|2024-01-31T22:43:00Z|\n",
      "|-22,97921|-43,23046|1706751712000|   A29173|        27|  583|file:///home/feli...|2024-01-31T22:43:00Z|\n",
      "|-22,89927|-43,24474|1706751712000|   A29092|        27|  476|file:///home/feli...|2024-01-31T22:43:00Z|\n",
      "|-22,91566|-43,20991|1706751712000|   A29027|         0|  711|file:///home/feli...|2024-01-31T22:43:00Z|\n",
      "|-22,87756|-43,21615|1706751713000|   A29180|         0|  209|file:///home/feli...|2024-01-31T22:43:00Z|\n",
      "| -22,8943|-43,23895|1706751713000|   A29184|         1|  711|file:///home/feli...|2024-01-31T22:43:00Z|\n",
      "|-22,84932|-43,34375|1706751713000|   A29094|        55|  711|file:///home/feli...|2024-01-31T22:43:00Z|\n",
      "|-22,96233|-43,16627|1706751709000|   A29176|         0|  472|file:///home/feli...|2024-01-31T22:43:00Z|\n",
      "|-22,87685|-43,21877|1706751711000|   A29155|        35|  209|file:///home/feli...|2024-01-31T22:43:00Z|\n",
      "|-22,86785|-43,29109|1706751714000|   A29023|         0|  472|file:///home/feli...|2024-01-31T22:43:00Z|\n",
      "|-22,91906|-43,26175|1706751710000|   A29186|        31|  435|file:///home/feli...|2024-01-31T22:43:00Z|\n",
      "| -22,9704|-43,18598|1706751713000|   A29165|         0|  435|file:///home/feli...|2024-01-31T22:43:00Z|\n",
      "|-22,96472|-43,17804|1706751713000|   A29162|        11|  473|file:///home/feli...|2024-01-31T22:43:00Z|\n",
      "+---------+---------+-------------+---------+----------+-----+--------------------+--------------------+\n",
      "only showing top 20 rows\n",
      "\n"
     ]
    },
    {
     "data": {
      "text/plain": [
       "StructType([StructField('latitude', StringType(), True), StructField('longitude', StringType(), True), StructField('tempo_captura', StringType(), True), StructField('id_onibus', StringType(), True), StructField('velocidade', StringType(), True), StructField('linha', StringType(), True), StructField('inputFiles', StringType(), False), StructField('teste', StringType(), True)])"
      ]
     },
     "execution_count": 16,
     "metadata": {},
     "output_type": "execute_result"
    }
   ],
   "source": [
    "# Rio\n",
    "\n",
    "from pyspark.sql import *\n",
    "from delta import *\n",
    "from pyspark.sql.functions import input_file_name, udf, col\n",
    "from pyspark.sql.types import StringType\n",
    "from datetime import datetime, timedelta\n",
    "\n",
    "builder = SparkSession.builder.appName(\"topicos\").config(\"spark.sql.extensions\",\"io.delta.sql.DeltaSparkSessionExtension\").config(\"spark.sql.catalog.spark_catalog\",\"org.apache.spark.sql.delta.catalog.DeltaCatalog\")\n",
    "spark = configure_spark_with_delta_pip(builder).getOrCreate()\n",
    "\n",
    "INPUT_PATH = \"/home/felipe/code/topicos_dados/dados/\"\n",
    "BRONZE_PATH = \"/home/felipe/code/deltalake/lake/bronze/\"\n",
    "SILVER_PATH = \"/home/felipe/code/deltalake/lake/silver/\"\n",
    "\n",
    "\n",
    "def addTimestampQueryTime(filenames):\n",
    "    \"\"\" \n",
    "    Add the column \"query_timestamp\" indicating the timestamp\n",
    "    \n",
    "    file:///home/felipe/code/topicos_dados/dados/cb_micro/1706665101.9679544.parquet -> 1706665101.9679544\n",
    "    \"\"\"\n",
    "    file_name = str(filenames)[54:-8]\n",
    "    time = (datetime.fromtimestamp(float(file_name))).strftime(\"%Y-%m-%dT%H:%M:%SZ\")\n",
    "    return time\n",
    "\n",
    "udf_teste = udf(addTimestampQueryTime,StringType())\n",
    "\n",
    "sp = spark.read.format(\"parquet\").option(\"inferSchema\",\"true\").option(\"header\",\"true\").load(f\"{INPUT_PATH}/rj_micro\").withColumn(\"inputFiles\",input_file_name())\n",
    "sp = sp.withColumn(\"teste\",udf_teste(col(\"inputFiles\")))\n",
    "sp.show(20)\n",
    "sp.schema\n",
    "\n"
   ]
  }
 ],
 "metadata": {
  "kernelspec": {
   "display_name": "Python 3",
   "language": "python",
   "name": "python3"
  },
  "language_info": {
   "codemirror_mode": {
    "name": "ipython",
    "version": 3
   },
   "file_extension": ".py",
   "mimetype": "text/x-python",
   "name": "python",
   "nbconvert_exporter": "python",
   "pygments_lexer": "ipython3",
   "version": "3.11.4"
  }
 },
 "nbformat": 4,
 "nbformat_minor": 2
}
