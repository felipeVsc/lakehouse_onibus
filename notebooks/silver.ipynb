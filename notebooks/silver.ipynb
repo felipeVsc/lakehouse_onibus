{
 "cells": [
  {
   "cell_type": "code",
   "execution_count": 1,
   "metadata": {},
   "outputs": [
    {
     "name": "stderr",
     "output_type": "stream",
     "text": [
      "24/03/18 21:45:42 WARN Utils: Your hostname, desktop resolves to a loopback address: 127.0.1.1; using 192.168.0.106 instead (on interface enp6s0)\n",
      "24/03/18 21:45:42 WARN Utils: Set SPARK_LOCAL_IP if you need to bind to another address\n",
      "Ivy Default Cache set to: /home/felipe/.ivy2/cache\n",
      "The jars for the packages stored in: /home/felipe/.ivy2/jars\n",
      "io.delta#delta-spark_2.12 added as a dependency\n",
      ":: resolving dependencies :: org.apache.spark#spark-submit-parent-9a93a4d1-8ff8-4ce4-ab03-9ae36c504d71;1.0\n",
      "\tconfs: [default]\n"
     ]
    },
    {
     "name": "stdout",
     "output_type": "stream",
     "text": [
      ":: loading settings :: url = jar:file:/home/felipe/.local/lib/python3.11/site-packages/pyspark/jars/ivy-2.5.1.jar!/org/apache/ivy/core/settings/ivysettings.xml\n"
     ]
    },
    {
     "name": "stderr",
     "output_type": "stream",
     "text": [
      "\tfound io.delta#delta-spark_2.12;3.1.0 in central\n",
      "\tfound io.delta#delta-storage;3.1.0 in central\n",
      "\tfound org.antlr#antlr4-runtime;4.9.3 in central\n",
      ":: resolution report :: resolve 105ms :: artifacts dl 4ms\n",
      "\t:: modules in use:\n",
      "\tio.delta#delta-spark_2.12;3.1.0 from central in [default]\n",
      "\tio.delta#delta-storage;3.1.0 from central in [default]\n",
      "\torg.antlr#antlr4-runtime;4.9.3 from central in [default]\n",
      "\t---------------------------------------------------------------------\n",
      "\t|                  |            modules            ||   artifacts   |\n",
      "\t|       conf       | number| search|dwnlded|evicted|| number|dwnlded|\n",
      "\t---------------------------------------------------------------------\n",
      "\t|      default     |   3   |   0   |   0   |   0   ||   3   |   0   |\n",
      "\t---------------------------------------------------------------------\n",
      ":: retrieving :: org.apache.spark#spark-submit-parent-9a93a4d1-8ff8-4ce4-ab03-9ae36c504d71\n",
      "\tconfs: [default]\n",
      "\t0 artifacts copied, 3 already retrieved (0kB/3ms)\n",
      "24/03/18 21:45:42 WARN NativeCodeLoader: Unable to load native-hadoop library for your platform... using builtin-java classes where applicable\n",
      "Setting default log level to \"WARN\".\n",
      "To adjust logging level use sc.setLogLevel(newLevel). For SparkR, use setLogLevel(newLevel).\n",
      "24/03/18 21:45:43 WARN Utils: Service 'SparkUI' could not bind on port 4040. Attempting port 4041.\n"
     ]
    },
    {
     "name": "stdout",
     "output_type": "stream",
     "text": [
      "3.5.0\n"
     ]
    }
   ],
   "source": [
    "# Operações para Silver\n",
    "\n",
    "from pyspark.sql import *\n",
    "from delta import *\n",
    "\n",
    "builder = SparkSession.builder.appName(\"topicos\").config(\"spark.sql.extensions\",\"io.delta.sql.DeltaSparkSessionExtension\").config(\"spark.sql.catalog.spark_catalog\",\"org.apache.spark.sql.delta.catalog.DeltaCatalog\")\n",
    "spark = configure_spark_with_delta_pip(builder).getOrCreate()\n",
    "\n",
    "INPUT_PATH = \"/home/felipe/code/topicos_dados/dados/\"\n",
    "BRONZE_PATH = \"/home/felipe/code/deltalake/lake/bronze/\"\n",
    "SILVER_PATH = \"/home/felipe/code/deltalake/lake/silver/\"\n",
    "\n",
    "print(spark.version)\n"
   ]
  },
  {
   "cell_type": "code",
   "execution_count": 3,
   "metadata": {},
   "outputs": [
    {
     "name": "stderr",
     "output_type": "stream",
     "text": [
      "24/03/18 21:45:49 WARN SparkStringUtils: Truncated the string representation of a plan since it was too large. This behavior can be adjusted by setting 'spark.sql.debug.maxToStringFields'.\n",
      "                                                                                \r"
     ]
    }
   ],
   "source": [
    "from pyspark.sql import *\n",
    "from delta import *\n",
    "\n",
    "builder = SparkSession.builder.appName(\"topicos\").config(\"spark.sql.extensions\",\"io.delta.sql.DeltaSparkSessionExtension\").config(\"spark.sql.catalog.spark_catalog\",\"org.apache.spark.sql.delta.catalog.DeltaCatalog\")\n",
    "spark = configure_spark_with_delta_pip(builder).getOrCreate()\n",
    "\n",
    "\n",
    "brbus_table = DeltaTable.create(spark) \\\n",
    "    .tableName(\"silver_brbus\") \\\n",
    "    .addColumn(\"latitude\", dataType=\"DOUBLE\") \\\n",
    "    .addColumn(\"longitude\", dataType=\"DOUBLE\") \\\n",
    "    .addColumn(\"bus_id\", dataType=\"STRING\") \\\n",
    "    .addColumn(\"city\", dataType=\"STRING\") \\\n",
    "    .addColumn(\"bus_code\", dataType=\"STRING\") \\\n",
    "    .addColumn(\"bus_speed\", dataType=\"DOUBLE\") \\\n",
    "    .addColumn(\"bus_direction\", dataType=\"INT\") \\\n",
    "    .addColumn(\"queried_at\", dataType=\"TIMESTAMP\") \\\n",
    "    .addColumn(\"updated_at\", dataType=\"TIMESTAMP\") \\\n",
    "    .location(\"/home/felipe/code/topicos_dados/lake/silver/silver_brbus\") \\\n",
    "    .execute()\n",
    "\n"
   ]
  },
  {
   "cell_type": "code",
   "execution_count": 2,
   "metadata": {},
   "outputs": [
    {
     "data": {
      "text/plain": [
       "DataFrame[]"
      ]
     },
     "execution_count": 2,
     "metadata": {},
     "output_type": "execute_result"
    }
   ],
   "source": [
    "spark.sql(\"DROP TABLE IF EXISTS silver_brbus\")"
   ]
  },
  {
   "cell_type": "code",
   "execution_count": 4,
   "metadata": {},
   "outputs": [
    {
     "name": "stdout",
     "output_type": "stream",
     "text": [
      "+----------+----------+--------------+--------+----------+---------------+-----+----------+-------------------+---------+-------------------+-------------+\n",
      "|  latitude| longitude|  type_vehicle|bus_code| situation|    situation_2|table|is_adapted|         queried_at|   bus_id|         updated_at|bus_direction|\n",
      "+----------+----------+--------------+--------+----------+---------------+-----+----------+-------------------+---------+-------------------+-------------+\n",
      "|-25.439915|-49.271901|MICRO ESPECIAL|     762|  ATRASADO|REALIZANDO ROTA|  2-2|         1|2024-01-30 20:18:21|CWB_JI859|2024-01-30 20:17:00|            1|\n",
      "|-25.439836|-49.249908|MICRO ESPECIAL|     463|NO HORÁRIO|REALIZANDO ROTA|    2|         1|2024-01-30 20:18:21|CWB_DN603|2024-01-30 20:18:00|            2|\n",
      "|-25.470021|-49.212463|MICRO ESPECIAL|     463|NO HORÁRIO|REALIZANDO ROTA|    4|         1|2024-01-30 20:18:21|CWB_DN608|2024-01-30 20:18:00|            1|\n",
      "|-25.441271| -49.34526|    ARTICULADO|     040|  ATRASADO|REALIZANDO ROTA|    5|         1|2024-01-30 20:18:21|CWB_GB611|2024-01-30 20:18:00|            2|\n",
      "|-25.477248|-49.334883|    ARTICULADO|     040|NO HORÁRIO|REALIZANDO ROTA|   12|         1|2024-01-30 20:18:21|CWB_HB609|2024-01-30 20:18:00|            2|\n",
      "|-25.453978|-49.348943|    ARTICULADO|     040|NO HORÁRIO|REALIZANDO ROTA|   10|         1|2024-01-30 20:18:21|CWB_JB607|2024-01-30 20:18:00|            1|\n",
      "|-25.425786|-49.352936|    ARTICULADO|     040|NO HORÁRIO|REALIZANDO ROTA|   17|         1|2024-01-30 20:18:21|CWB_JB608|2024-01-30 20:18:00|            1|\n",
      "|-25.512063|-49.329261|    ARTICULADO|     040| ADIANTADO|REALIZANDO ROTA|  3-2|         1|2024-01-30 20:18:21|CWB_HB694|2024-01-30 20:18:00|            2|\n",
      "|-25.400185|-49.332136|    ARTICULADO|     040|NO HORÁRIO|REALIZANDO ROTA| 22-2|         1|2024-01-30 20:18:21|CWB_HB606|2024-01-30 20:17:00|            2|\n",
      "|-25.519033|-49.323405|    ARTICULADO|     040|  ATRASADO|REALIZANDO ROTA|  2-2|         1|2024-01-30 20:18:21|CWB_JB610|2024-01-30 20:18:00|            1|\n",
      "|-25.480178|-49.323416|    ARTICULADO|     040|NO HORÁRIO|REALIZANDO ROTA|    6|         1|2024-01-30 20:18:21|CWB_JI603|2024-01-30 20:15:00|            1|\n",
      "|-25.434863|-49.272178|        PADRON|     703|NO HORÁRIO|REALIZANDO ROTA|  7-2|         1|2024-01-30 20:18:21|CWB_JC313|2024-01-30 20:17:00|            1|\n",
      "|-25.516498|-49.231035|        PADRON|     507|  ATRASADO|REALIZANDO ROTA|    6|         0|2024-01-30 20:18:21|CWB_EL313|2024-01-30 20:18:00|            0|\n",
      "|  -25.4452|-49.272496|        PADRON|     507|NO HORÁRIO|REALIZANDO ROTA|   12|         1|2024-01-30 20:18:21|CWB_EL320|2024-01-30 20:18:00|            0|\n",
      "| -25.52944|-49.287463|        PADRON|     507|NO HORÁRIO|REALIZANDO ROTA|  9-2|         1|2024-01-30 20:18:21|CWB_EL323|2024-01-30 20:17:00|            0|\n",
      "|-25.448328|-49.258058|        PADRON|     507|NO HORÁRIO|REALIZANDO ROTA|  1-2|         1|2024-01-30 20:18:21|CWB_EL319|2024-01-30 20:18:00|            0|\n",
      "|-25.416825|-49.358761|         COMUM|     870|NO HORÁRIO|REALIZANDO ROTA|    2|         1|2024-01-30 20:18:21|CWB_BC009|2024-01-30 20:17:00|            2|\n",
      "|-25.429728|-49.272603|         COMUM|     870|NO HORÁRIO|REALIZANDO ROTA|    3|         1|2024-01-30 20:18:21|CWB_BA014|2024-01-30 20:18:00|            1|\n",
      "|-25.499401|-49.342746|         COMUM|     658|NO HORÁRIO|REALIZANDO ROTA|    2|         1|2024-01-30 20:18:21|CWB_HI039|2024-01-30 20:18:00|            2|\n",
      "|-25.484496|-49.348196|         COMUM|     658|NO HORÁRIO|REALIZANDO ROTA|    3|         1|2024-01-30 20:18:21|CWB_JI002|2024-01-30 20:18:00|            1|\n",
      "+----------+----------+--------------+--------+----------+---------------+-----+----------+-------------------+---------+-------------------+-------------+\n",
      "only showing top 20 rows\n",
      "\n"
     ]
    }
   ],
   "source": [
    "from deltalake import DeltaTable\n",
    "\n",
    "teste = spark.read.format(\"delta\").load(\"/home/felipe/code/topicos_dados/lake/silver/silver_cwb/\")\n",
    "teste.show()"
   ]
  },
  {
   "cell_type": "code",
   "execution_count": 5,
   "metadata": {},
   "outputs": [
    {
     "name": "stdout",
     "output_type": "stream",
     "text": [
      "+--------+---------+------+----+--------+---------+-------------+----------+----------+\n",
      "|latitude|longitude|bus_id|city|bus_code|bus_speed|bus_direction|queried_at|updated_at|\n",
      "+--------+---------+------+----+--------+---------+-------------+----------+----------+\n",
      "+--------+---------+------+----+--------+---------+-------------+----------+----------+\n",
      "\n"
     ]
    }
   ],
   "source": [
    "from deltalake import DeltaTable\n",
    "\n",
    "table_brbus = spark.read.format(\"delta\").load(\"/home/felipe/code/topicos_dados/lake/silver/silver_brbus/\")\n",
    "table_brbus.show()"
   ]
  },
  {
   "cell_type": "code",
   "execution_count": 13,
   "metadata": {},
   "outputs": [
    {
     "data": {
      "text/plain": [
       "StructType([StructField('latitude', DoubleType(), True), StructField('longitude', DoubleType(), True), StructField('bus_speed', DoubleType(), True), StructField('bus_code', StringType(), True), StructField('queried_at', TimestampType(), True), StructField('updated_at', TimestampType(), True), StructField('bus_id', StringType(), True)])"
      ]
     },
     "execution_count": 13,
     "metadata": {},
     "output_type": "execute_result"
    }
   ],
   "source": [
    "rj_silver = spark.read.format(\"delta\").load(\"/home/felipe/code/topicos_dados/lake/silver/silver_rj/\")\n",
    "rj_silver.schema"
   ]
  },
  {
   "cell_type": "code",
   "execution_count": 17,
   "metadata": {},
   "outputs": [
    {
     "name": "stderr",
     "output_type": "stream",
     "text": [
      "24/03/18 14:49:10 WARN DeltaLog: Change in the table id detected while updating snapshot. \n",
      "Previous snapshot = Snapshot(path=file:/home/felipe/code/topicos_dados/lake/silver/silver_sp/_delta_log, version=0, metadata=Metadata(14e16531-ac45-4749-b2fc-9788aeb6b3fa,null,null,Format(parquet,Map()),{\"type\":\"struct\",\"fields\":[{\"name\":\"latitude\",\"type\":\"double\",\"nullable\":true,\"metadata\":{}},{\"name\":\"longitude\",\"type\":\"double\",\"nullable\":true,\"metadata\":{}},{\"name\":\"bus_code\",\"type\":\"string\",\"nullable\":true,\"metadata\":{}},{\"name\":\"station0\",\"type\":\"string\",\"nullable\":true,\"metadata\":{}},{\"name\":\"station1\",\"type\":\"string\",\"nullable\":true,\"metadata\":{}},{\"name\":\"queried_at\",\"type\":\"string\",\"nullable\":true,\"metadata\":{}},{\"name\":\"bus_id\",\"type\":\"string\",\"nullable\":true,\"metadata\":{}},{\"name\":\"updated_at\",\"type\":\"string\",\"nullable\":true,\"metadata\":{}}]},List(),Map(),Some(1710783267228)), logSegment=LogSegment(file:/home/felipe/code/topicos_dados/lake/silver/silver_sp/_delta_log,0,WrappedArray(DeprecatedRawLocalFileStatus{path=file:/home/felipe/code/topicos_dados/lake/silver/silver_sp/_delta_log/00000000000000000000.json; isDirectory=false; length=9920; replication=1; blocksize=33554432; modification_time=1710783268190; access_time=1710783268238; owner=; group=; permission=rw-rw-rw-; isSymlink=false; hasAcl=false; isEncrypted=false; isErasureCoded=false}),org.apache.spark.sql.delta.EmptyCheckpointProvider$@2cd78a1c,1710783268190), checksumOpt=None)\n",
      "New snapshot = Snapshot(path=file:/home/felipe/code/topicos_dados/lake/silver/silver_sp/_delta_log, version=0, metadata=Metadata(23936dbc-d0ed-40a3-ac4f-21eb2b99b205,null,null,Format(parquet,Map()),{\"type\":\"struct\",\"fields\":[{\"name\":\"latitude\",\"type\":\"double\",\"nullable\":true,\"metadata\":{}},{\"name\":\"longitude\",\"type\":\"double\",\"nullable\":true,\"metadata\":{}},{\"name\":\"bus_code\",\"type\":\"string\",\"nullable\":true,\"metadata\":{}},{\"name\":\"station0\",\"type\":\"string\",\"nullable\":true,\"metadata\":{}},{\"name\":\"station1\",\"type\":\"string\",\"nullable\":true,\"metadata\":{}},{\"name\":\"queried_at\",\"type\":\"timestamp\",\"nullable\":true,\"metadata\":{}},{\"name\":\"bus_id\",\"type\":\"string\",\"nullable\":true,\"metadata\":{}},{\"name\":\"updated_at\",\"type\":\"timestamp\",\"nullable\":true,\"metadata\":{}}]},List(),Map(),Some(1710784135613)), logSegment=LogSegment(file:/home/felipe/code/topicos_dados/lake/silver/silver_sp/_delta_log,0,WrappedArray(DeprecatedRawLocalFileStatus{path=file:/home/felipe/code/topicos_dados/lake/silver/silver_sp/_delta_log/00000000000000000000.json; isDirectory=false; length=10326; replication=1; blocksize=33554432; modification_time=1710784136752; access_time=1710784136796; owner=; group=; permission=rw-rw-rw-; isSymlink=false; hasAcl=false; isEncrypted=false; isErasureCoded=false}),org.apache.spark.sql.delta.EmptyCheckpointProvider$@2cd78a1c,1710784136752), checksumOpt=None).\n"
     ]
    },
    {
     "data": {
      "text/plain": [
       "StructType([StructField('latitude', DoubleType(), True), StructField('longitude', DoubleType(), True), StructField('bus_code', StringType(), True), StructField('station0', StringType(), True), StructField('station1', StringType(), True), StructField('queried_at', TimestampType(), True), StructField('bus_id', StringType(), True), StructField('updated_at', TimestampType(), True)])"
      ]
     },
     "execution_count": 17,
     "metadata": {},
     "output_type": "execute_result"
    }
   ],
   "source": [
    "sp_silver = spark.read.format(\"delta\").load(\"/home/felipe/code/topicos_dados/lake/silver/silver_sp/\")\n",
    "sp_silver.schema"
   ]
  },
  {
   "cell_type": "code",
   "execution_count": 8,
   "metadata": {},
   "outputs": [
    {
     "data": {
      "text/plain": [
       "StructType([StructField('latitude', DoubleType(), True), StructField('longitude', DoubleType(), True), StructField('type_vehicle', StringType(), True), StructField('bus_code', StringType(), True), StructField('situation', StringType(), True), StructField('situation_2', StringType(), True), StructField('table', StringType(), True), StructField('is_adapted', IntegerType(), True), StructField('queried_at', TimestampType(), True), StructField('bus_id', StringType(), True), StructField('updated_at', TimestampType(), True), StructField('bus_direction', IntegerType(), True)])"
      ]
     },
     "execution_count": 8,
     "metadata": {},
     "output_type": "execute_result"
    }
   ],
   "source": [
    "cwb_silver = spark.read.format(\"delta\").load(\"/home/felipe/code/topicos_dados/lake/silver/silver_cwb/\")\n",
    "cwb_silver.schema"
   ]
  },
  {
   "cell_type": "code",
   "execution_count": 9,
   "metadata": {},
   "outputs": [
    {
     "data": {
      "text/plain": [
       "StructType([StructField('longitude', DoubleType(), True), StructField('latitude', DoubleType(), True), StructField('bus_speed', DoubleType(), True), StructField('direction', DoubleType(), True), StructField('bus_code', StringType(), True), StructField('queried_at', TimestampType(), True), StructField('updated_at', TimestampType(), True), StructField('bus_id', StringType(), True), StructField('bus_direction', IntegerType(), True)])"
      ]
     },
     "execution_count": 9,
     "metadata": {},
     "output_type": "execute_result"
    }
   ],
   "source": [
    "bsb_silver = spark.read.format(\"delta\").load(\"/home/felipe/code/topicos_dados/lake/silver/silver_bsb/\")\n",
    "bsb_silver.schema"
   ]
  },
  {
   "cell_type": "code",
   "execution_count": 4,
   "metadata": {},
   "outputs": [
    {
     "name": "stderr",
     "output_type": "stream",
     "text": [
      "24/03/18 21:46:02 WARN MemoryManager: Total allocation exceeds 95,00% (1.020.054.720 bytes) of heap memory\n",
      "Scaling row group sizes to 95,00% for 8 writers\n",
      "24/03/18 21:46:02 WARN MemoryManager: Total allocation exceeds 95,00% (1.020.054.720 bytes) of heap memory\n",
      "Scaling row group sizes to 84,44% for 9 writers\n",
      "24/03/18 21:46:02 WARN MemoryManager: Total allocation exceeds 95,00% (1.020.054.720 bytes) of heap memory\n",
      "Scaling row group sizes to 76,00% for 10 writers\n",
      "24/03/18 21:46:02 WARN MemoryManager: Total allocation exceeds 95,00% (1.020.054.720 bytes) of heap memory\n",
      "Scaling row group sizes to 84,44% for 9 writers\n",
      "24/03/18 21:46:02 WARN MemoryManager: Total allocation exceeds 95,00% (1.020.054.720 bytes) of heap memory\n",
      "Scaling row group sizes to 95,00% for 8 writers\n",
      "24/03/18 21:46:04 WARN MemoryManager: Total allocation exceeds 95,00% (1.020.054.720 bytes) of heap memory\n",
      "Scaling row group sizes to 95,00% for 8 writers\n",
      "24/03/18 21:46:04 WARN MemoryManager: Total allocation exceeds 95,00% (1.020.054.720 bytes) of heap memory\n",
      "Scaling row group sizes to 84,44% for 9 writers\n",
      "24/03/18 21:46:04 WARN MemoryManager: Total allocation exceeds 95,00% (1.020.054.720 bytes) of heap memory\n",
      "Scaling row group sizes to 76,00% for 10 writers\n",
      "24/03/18 21:46:04 WARN MemoryManager: Total allocation exceeds 95,00% (1.020.054.720 bytes) of heap memory\n",
      "Scaling row group sizes to 69,09% for 11 writers\n",
      "24/03/18 21:46:06 WARN MemoryManager: Total allocation exceeds 95,00% (1.020.054.720 bytes) of heap memory\n",
      "Scaling row group sizes to 76,00% for 10 writers\n",
      "24/03/18 21:46:06 WARN MemoryManager: Total allocation exceeds 95,00% (1.020.054.720 bytes) of heap memory\n",
      "Scaling row group sizes to 84,44% for 9 writers\n",
      "24/03/18 21:46:07 WARN MemoryManager: Total allocation exceeds 95,00% (1.020.054.720 bytes) of heap memory\n",
      "Scaling row group sizes to 95,00% for 8 writers\n",
      "24/03/18 21:46:09 WARN MemoryManager: Total allocation exceeds 95,00% (1.020.054.720 bytes) of heap memory\n",
      "Scaling row group sizes to 95,00% for 8 writers\n",
      "24/03/18 21:46:09 WARN MemoryManager: Total allocation exceeds 95,00% (1.020.054.720 bytes) of heap memory\n",
      "Scaling row group sizes to 84,44% for 9 writers\n",
      "24/03/18 21:46:09 WARN MemoryManager: Total allocation exceeds 95,00% (1.020.054.720 bytes) of heap memory\n",
      "Scaling row group sizes to 76,00% for 10 writers\n",
      "24/03/18 21:46:09 WARN MemoryManager: Total allocation exceeds 95,00% (1.020.054.720 bytes) of heap memory\n",
      "Scaling row group sizes to 84,44% for 9 writers\n",
      "24/03/18 21:46:09 WARN MemoryManager: Total allocation exceeds 95,00% (1.020.054.720 bytes) of heap memory\n",
      "Scaling row group sizes to 95,00% for 8 writers\n",
      "24/03/18 21:46:11 WARN MemoryManager: Total allocation exceeds 95,00% (1.020.054.720 bytes) of heap memory\n",
      "Scaling row group sizes to 95,00% for 8 writers\n",
      "24/03/18 21:46:11 WARN MemoryManager: Total allocation exceeds 95,00% (1.020.054.720 bytes) of heap memory\n",
      "Scaling row group sizes to 84,44% for 9 writers\n",
      "24/03/18 21:46:11 WARN MemoryManager: Total allocation exceeds 95,00% (1.020.054.720 bytes) of heap memory\n",
      "Scaling row group sizes to 76,00% for 10 writers\n",
      "24/03/18 21:46:11 WARN MemoryManager: Total allocation exceeds 95,00% (1.020.054.720 bytes) of heap memory\n",
      "Scaling row group sizes to 69,09% for 11 writers\n",
      "24/03/18 21:46:11 WARN MemoryManager: Total allocation exceeds 95,00% (1.020.054.720 bytes) of heap memory\n",
      "Scaling row group sizes to 63,33% for 12 writers\n",
      "24/03/18 21:46:11 WARN MemoryManager: Total allocation exceeds 95,00% (1.020.054.720 bytes) of heap memory\n",
      "Scaling row group sizes to 69,09% for 11 writers\n",
      "24/03/18 21:46:11 WARN MemoryManager: Total allocation exceeds 95,00% (1.020.054.720 bytes) of heap memory\n",
      "Scaling row group sizes to 76,00% for 10 writers\n",
      "24/03/18 21:46:11 WARN MemoryManager: Total allocation exceeds 95,00% (1.020.054.720 bytes) of heap memory\n",
      "Scaling row group sizes to 84,44% for 9 writers\n",
      "24/03/18 21:46:12 WARN MemoryManager: Total allocation exceeds 95,00% (1.020.054.720 bytes) of heap memory\n",
      "Scaling row group sizes to 95,00% for 8 writers\n",
      "                                                                                \r"
     ]
    }
   ],
   "source": [
    "# Adding city values to each DF\n",
    "\n",
    "from pyspark.sql.functions import lit\n",
    "# SP\n",
    "\n",
    "sp_silver = spark.read.format(\"delta\").load(\"/home/felipe/code/topicos_dados/lake/silver/silver_sp/\")\n",
    "sp_silver = sp_silver.withColumn(\"city\",lit(\"Sao Paulo\"))\n",
    "sp_selected = sp_silver.select([\"longitude\", \"latitude\",\"bus_code\",\"queried_at\",\"updated_at\",\"bus_id\",\"city\"])\n",
    "\n",
    "\n",
    "# RJ\n",
    "rj_silver = spark.read.format(\"delta\").load(\"/home/felipe/code/topicos_dados/lake/silver/silver_rj/\")\n",
    "rj_silver = rj_silver.withColumn(\"city\",lit(\"Rio de Janeiro\"))\n",
    "rj_selected = rj_silver.select([\"longitude\", \"latitude\",\"bus_speed\",\"bus_code\",\"queried_at\",\"updated_at\",\"bus_id\",\"city\"])\n",
    "\n",
    "\n",
    "# CWB\n",
    "cwb_silver = spark.read.format(\"delta\").load(\"/home/felipe/code/topicos_dados/lake/silver/silver_cwb/\")\n",
    "cwb_silver = cwb_silver.withColumn(\"city\",lit(\"Curitiba\"))\n",
    "cwb_selected = cwb_silver.select([\"longitude\", \"latitude\",\"bus_code\",\"queried_at\",\"updated_at\",\"bus_id\",\"bus_direction\",\"city\"])\n",
    "\n",
    "#BSB\n",
    "\n",
    "bsb_silver = spark.read.format(\"delta\").load(\"/home/felipe/code/topicos_dados/lake/silver/silver_bsb/\")\n",
    "bsb_silver = bsb_silver.withColumn(\"city\",lit(\"Brasilia\"))\n",
    "\n",
    "bsb_selected = bsb_silver.select([\"longitude\", \"latitude\",\"bus_speed\",\"bus_code\",\"queried_at\",\"updated_at\",\"bus_id\",\"bus_direction\",\"city\"])\n",
    "\n",
    "# Merging into BRBus Table\n",
    "\n",
    "sp_selected.write.format(\"delta\").mode(\"append\").save(\"/home/felipe/code/topicos_dados/lake/silver/silver_brbus\")\n",
    "rj_selected.write.format(\"delta\").mode(\"append\").save(\"/home/felipe/code/topicos_dados/lake/silver/silver_brbus\")\n",
    "cwb_selected.write.format(\"delta\").mode(\"append\").save(\"/home/felipe/code/topicos_dados/lake/silver/silver_brbus\")\n",
    "bsb_selected.write.format(\"delta\").mode(\"append\").save(\"/home/felipe/code/topicos_dados/lake/silver/silver_brbus\")\n",
    "\n"
   ]
  },
  {
   "cell_type": "code",
   "execution_count": 4,
   "metadata": {},
   "outputs": [
    {
     "name": "stderr",
     "output_type": "stream",
     "text": [
      "24/03/18 21:34:20 WARN SparkStringUtils: Truncated the string representation of a plan since it was too large. This behavior can be adjusted by setting 'spark.sql.debug.maxToStringFields'.\n",
      "24/03/18 21:34:23 WARN MemoryManager: Total allocation exceeds 95,00% (1.020.054.720 bytes) of heap memory\n",
      "Scaling row group sizes to 95,00% for 8 writers\n",
      "24/03/18 21:34:23 WARN MemoryManager: Total allocation exceeds 95,00% (1.020.054.720 bytes) of heap memory\n",
      "Scaling row group sizes to 84,44% for 9 writers\n",
      "24/03/18 21:34:23 WARN MemoryManager: Total allocation exceeds 95,00% (1.020.054.720 bytes) of heap memory\n",
      "Scaling row group sizes to 76,00% for 10 writers\n",
      "24/03/18 21:34:23 WARN MemoryManager: Total allocation exceeds 95,00% (1.020.054.720 bytes) of heap memory\n",
      "Scaling row group sizes to 69,09% for 11 writers\n",
      "24/03/18 21:34:24 WARN MemoryManager: Total allocation exceeds 95,00% (1.020.054.720 bytes) of heap memory\n",
      "Scaling row group sizes to 76,00% for 10 writers\n",
      "24/03/18 21:34:24 WARN MemoryManager: Total allocation exceeds 95,00% (1.020.054.720 bytes) of heap memory\n",
      "Scaling row group sizes to 84,44% for 9 writers\n",
      "24/03/18 21:34:24 WARN MemoryManager: Total allocation exceeds 95,00% (1.020.054.720 bytes) of heap memory\n",
      "Scaling row group sizes to 95,00% for 8 writers\n",
      "                                                                                \r"
     ]
    }
   ],
   "source": [
    "from pyspark.sql.functions import lit\n",
    "bsb_silver = spark.read.format(\"delta\").load(\"/home/felipe/code/topicos_dados/lake/silver/silver_bsb/\")\n",
    "bsb_silver = bsb_silver.withColumn(\"city\",lit(\"Brasilia\"))\n",
    "\n",
    "bsb_selected = bsb_silver.select([\"longitude\", \"latitude\",\"bus_speed\",\"bus_code\",\"queried_at\",\"updated_at\",\"bus_id\",\"bus_direction\",\"city\"])\n",
    "bsb_selected.write.format(\"delta\").mode(\"append\").save(\"/home/felipe/code/topicos_dados/lake/silver/silver_brbus\")"
   ]
  },
  {
   "cell_type": "code",
   "execution_count": 5,
   "metadata": {},
   "outputs": [
    {
     "name": "stdout",
     "output_type": "stream",
     "text": [
      "+----------+----------+----------+--------+--------+---------+-------------+-------------------+-------------------+\n",
      "|  latitude| longitude|    bus_id|    city|bus_code|bus_speed|bus_direction|         queried_at|         updated_at|\n",
      "+----------+----------+----------+--------+--------+---------+-------------+-------------------+-------------------+\n",
      "|-16.008726|-48.082588|BSB_232190|Brasilia|   0.224|     NULL|            2|2024-02-02 23:24:33|2024-02-02 23:24:20|\n",
      "|-15.913279|-47.757915|BSB_227463|Brasilia|   0.186|     NULL|            2|2024-02-02 23:24:33|2024-02-02 23:24:20|\n",
      "|-15.914861|-47.769432|BSB_231410|Brasilia|   183.7|     NULL|            1|2024-02-02 23:24:33|2024-02-02 23:24:20|\n",
      "|-15.756565|-47.772503|BSB_231533|Brasilia|   0.018|     NULL|            2|2024-02-02 23:24:33|2024-02-02 23:24:18|\n",
      "|-16.024078|-48.031765|BSB_230120|Brasilia|    3312|     NULL|            1|2024-02-02 23:24:33|2024-02-02 23:24:14|\n",
      "| -15.91022|-47.966846|BSB_230006|Brasilia|   0.224|     NULL|            1|2024-02-02 23:24:33|2024-02-02 23:24:12|\n",
      "|-16.022554|-48.031654|BSB_228354|Brasilia|   020.2|     NULL|            1|2024-02-02 23:24:33|2024-02-02 23:24:12|\n",
      "|-15.843471|-48.104088|BSB_443891|Brasilia|   0.933|     25.0|            1|2024-02-02 23:24:33|2024-02-02 23:24:08|\n",
      "|-15.809206|-47.956585|BSB_444707|Brasilia|   0.932|     59.0|            1|2024-02-02 23:24:33|2024-02-02 23:24:08|\n",
      "|  -15.8894| -48.12697|BSB_336734|Brasilia|   0.830|    15.28|            1|2024-02-02 23:24:33|2024-02-02 23:24:07|\n",
      "| -15.89943| -48.12208|BSB_339822|Brasilia|    4741|     4.44|            1|2024-02-02 23:24:33|2024-02-02 23:24:01|\n",
      "| -15.89959| -48.11858|BSB_338958|Brasilia|   0.817|    18.06|            1|2024-02-02 23:24:33|2024-02-02 23:23:59|\n",
      "| -15.92221| -48.10746|BSB_338656|Brasilia|    4800|      0.0|            1|2024-02-02 23:24:33|2024-02-02 23:23:57|\n",
      "|-15.869632|-48.038731|BSB_440388|Brasilia|   157.8|      0.0|            1|2024-02-02 23:24:33|2024-02-02 23:23:44|\n",
      "|-15.676794|-47.770283|BSB_229270|Brasilia|   100.8|     NULL|            1|2024-02-02 23:24:33|2024-02-02 23:23:42|\n",
      "| -15.68848| -47.86106|BSB_119831|Brasilia|   0.631|     NULL|            0|2024-02-02 23:24:33|2024-02-02 23:23:34|\n",
      "| -15.65714| -47.80164|BSB_118974|Brasilia|   0.631|     NULL|            0|2024-02-02 23:24:33|2024-02-02 23:23:33|\n",
      "| -15.88398|  -48.0653|BSB_340341|Brasilia|    4740|    18.61|            1|2024-02-02 23:24:33|2024-02-02 23:23:31|\n",
      "|-15.808232|-47.962765|BSB_444707|Brasilia|   0.932|     59.0|            1|2024-02-02 23:23:31|2024-02-02 23:23:28|\n",
      "|-15.842036| -48.10199|BSB_443891|Brasilia|   0.933|     41.0|            1|2024-02-02 23:23:31|2024-02-02 23:23:26|\n",
      "+----------+----------+----------+--------+--------+---------+-------------+-------------------+-------------------+\n",
      "only showing top 20 rows\n",
      "\n",
      "+---------+---------+----------+--------------+--------+---------+-------------+-------------------+-------------------+\n",
      "| latitude|longitude|    bus_id|          city|bus_code|bus_speed|bus_direction|         queried_at|         updated_at|\n",
      "+---------+---------+----------+--------------+--------+---------+-------------+-------------------+-------------------+\n",
      "|-22.94364|-43.25486|RJO_A50159|Rio de Janeiro|     220|      0.0|         NULL|2024-02-02 08:03:00|2024-02-02 08:01:48|\n",
      "|-23.01045| -43.2975|RJO_C50118|Rio de Janeiro|     302|      8.0|         NULL|2024-02-02 08:03:00|2024-02-02 08:01:48|\n",
      "|-22.93032|-43.23769|RJO_A50025|Rio de Janeiro|     220|      0.0|         NULL|2024-02-02 08:03:00|2024-02-02 08:01:48|\n",
      "|-23.00146|-43.36449|RJO_C50047|Rio de Janeiro|   SP805|     16.0|         NULL|2024-02-02 08:03:00|2024-02-02 08:01:48|\n",
      "|-22.92475|-43.25124|RJO_A50187|Rio de Janeiro|     608|     27.0|         NULL|2024-02-02 08:03:00|2024-02-02 08:01:49|\n",
      "|-22.92565|-43.24485|RJO_A50127|Rio de Janeiro|     608|     24.0|         NULL|2024-02-02 08:03:00|2024-02-02 08:01:46|\n",
      "|-22.92509|-43.23414|RJO_C50116|Rio de Janeiro|     645|     18.0|         NULL|2024-02-02 08:03:00|2024-02-02 08:01:48|\n",
      "|-23.00145|-43.36455|RJO_C50047|Rio de Janeiro|   SP805|     15.0|         NULL|2024-02-02 08:03:00|2024-02-02 08:01:49|\n",
      "|-22.90949|-43.20941|RJO_A50002|Rio de Janeiro|     301|     28.0|         NULL|2024-02-02 08:03:00|2024-02-02 08:01:47|\n",
      "|-22.93596|-43.24446|RJO_C50100|Rio de Janeiro|     301|     24.0|         NULL|2024-02-02 08:03:00|2024-02-02 08:01:48|\n",
      "|-23.00155|-43.36578|RJO_C50134|Rio de Janeiro|   SP805|     11.0|         NULL|2024-02-02 08:03:00|2024-02-02 08:01:50|\n",
      "|-22.94949|-43.18718|RJO_A50023|Rio de Janeiro|     157|      0.0|         NULL|2024-02-02 08:03:00|2024-02-02 08:01:52|\n",
      "|-22.92421|-43.25417|RJO_A50051|Rio de Janeiro|     608|      0.0|         NULL|2024-02-02 08:03:00|2024-02-02 08:01:51|\n",
      "|-22.97943|-43.29247|RJO_C50087|Rio de Janeiro|     302|     22.0|         NULL|2024-02-02 08:03:00|2024-02-02 08:01:51|\n",
      "|-22.94146|-43.25234|RJO_C50110|Rio de Janeiro|     301|     20.0|         NULL|2024-02-02 08:03:00|2024-02-02 08:01:51|\n",
      "|-22.92293|-43.26445|RJO_C50048|Rio de Janeiro|     608|      1.0|         NULL|2024-02-02 08:03:00|2024-02-02 08:01:52|\n",
      "|-23.01012|-43.35044|RJO_C50135|Rio de Janeiro|     805|      7.0|         NULL|2024-02-02 08:03:00|2024-02-02 08:01:52|\n",
      "|-22.93229|-43.24081|RJO_A50125|Rio de Janeiro|     220|     13.0|         NULL|2024-02-02 08:03:00|2024-02-02 08:01:52|\n",
      "|-23.00147|-43.36476|RJO_C50047|Rio de Janeiro|   SP805|     21.0|         NULL|2024-02-02 08:03:00|2024-02-02 08:01:51|\n",
      "|-23.00173| -43.3656|RJO_C50014|Rio de Janeiro|   SP805|      0.0|         NULL|2024-02-02 08:03:00|2024-02-02 08:01:52|\n",
      "+---------+---------+----------+--------------+--------+---------+-------------+-------------------+-------------------+\n",
      "only showing top 20 rows\n",
      "\n"
     ]
    }
   ],
   "source": [
    "brbus = spark.read.format(\"delta\").load(\"/home/felipe/code/topicos_dados/lake/silver/silver_brbus/\")\n",
    "brbus.filter(brbus['city']==\"Brasilia\").sort(brbus['updated_at'],ascending=False).show()\n",
    "brbus.show()\n",
    "\n"
   ]
  }
 ],
 "metadata": {
  "kernelspec": {
   "display_name": "venv",
   "language": "python",
   "name": "python3"
  },
  "language_info": {
   "codemirror_mode": {
    "name": "ipython",
    "version": 3
   },
   "file_extension": ".py",
   "mimetype": "text/x-python",
   "name": "python",
   "nbconvert_exporter": "python",
   "pygments_lexer": "ipython3",
   "version": "3.11.4"
  }
 },
 "nbformat": 4,
 "nbformat_minor": 2
}
