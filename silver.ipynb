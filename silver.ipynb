{
 "cells": [
  {
   "cell_type": "code",
   "execution_count": 1,
   "metadata": {},
   "outputs": [
    {
     "name": "stderr",
     "output_type": "stream",
     "text": [
      "24/03/14 22:31:03 WARN Utils: Your hostname, desktop resolves to a loopback address: 127.0.1.1; using 192.168.0.106 instead (on interface enp6s0)\n",
      "24/03/14 22:31:03 WARN Utils: Set SPARK_LOCAL_IP if you need to bind to another address\n"
     ]
    },
    {
     "name": "stdout",
     "output_type": "stream",
     "text": [
      ":: loading settings :: url = jar:file:/home/felipe/.local/lib/python3.11/site-packages/pyspark/jars/ivy-2.5.1.jar!/org/apache/ivy/core/settings/ivysettings.xml\n"
     ]
    },
    {
     "name": "stderr",
     "output_type": "stream",
     "text": [
      "Ivy Default Cache set to: /home/felipe/.ivy2/cache\n",
      "The jars for the packages stored in: /home/felipe/.ivy2/jars\n",
      "io.delta#delta-spark_2.12 added as a dependency\n",
      ":: resolving dependencies :: org.apache.spark#spark-submit-parent-a6114734-b265-4672-a123-9610c96476a7;1.0\n",
      "\tconfs: [default]\n",
      "\tfound io.delta#delta-spark_2.12;3.1.0 in central\n",
      "\tfound io.delta#delta-storage;3.1.0 in central\n",
      "\tfound org.antlr#antlr4-runtime;4.9.3 in central\n",
      ":: resolution report :: resolve 874ms :: artifacts dl 9ms\n",
      "\t:: modules in use:\n",
      "\tio.delta#delta-spark_2.12;3.1.0 from central in [default]\n",
      "\tio.delta#delta-storage;3.1.0 from central in [default]\n",
      "\torg.antlr#antlr4-runtime;4.9.3 from central in [default]\n",
      "\t---------------------------------------------------------------------\n",
      "\t|                  |            modules            ||   artifacts   |\n",
      "\t|       conf       | number| search|dwnlded|evicted|| number|dwnlded|\n",
      "\t---------------------------------------------------------------------\n",
      "\t|      default     |   3   |   0   |   0   |   0   ||   3   |   0   |\n",
      "\t---------------------------------------------------------------------\n",
      ":: retrieving :: org.apache.spark#spark-submit-parent-a6114734-b265-4672-a123-9610c96476a7\n",
      "\tconfs: [default]\n",
      "\t0 artifacts copied, 3 already retrieved (0kB/12ms)\n",
      "24/03/14 22:31:06 WARN NativeCodeLoader: Unable to load native-hadoop library for your platform... using builtin-java classes where applicable\n",
      "Setting default log level to \"WARN\".\n",
      "To adjust logging level use sc.setLogLevel(newLevel). For SparkR, use setLogLevel(newLevel).\n"
     ]
    },
    {
     "name": "stdout",
     "output_type": "stream",
     "text": [
      "3.5.0\n"
     ]
    }
   ],
   "source": [
    "# Operações para Silver\n",
    "\n",
    "from pyspark.sql import *\n",
    "from delta import *\n",
    "\n",
    "builder = SparkSession.builder.appName(\"topicos\").config(\"spark.sql.extensions\",\"io.delta.sql.DeltaSparkSessionExtension\").config(\"spark.sql.catalog.spark_catalog\",\"org.apache.spark.sql.delta.catalog.DeltaCatalog\")\n",
    "spark = configure_spark_with_delta_pip(builder).getOrCreate()\n",
    "\n",
    "INPUT_PATH = \"/home/felipe/code/topicos_dados/dados/\"\n",
    "BRONZE_PATH = \"/home/felipe/code/deltalake/lake/bronze/\"\n",
    "SILVER_PATH = \"/home/felipe/code/deltalake/lake/silver/\"\n",
    "\n",
    "print(spark.version)\n"
   ]
  },
  {
   "cell_type": "code",
   "execution_count": 43,
   "metadata": {},
   "outputs": [],
   "source": [
    "from pyspark.sql import *\n",
    "from delta import *\n",
    "\n",
    "builder = SparkSession.builder.appName(\"topicos\").config(\"spark.sql.extensions\",\"io.delta.sql.DeltaSparkSessionExtension\").config(\"spark.sql.catalog.spark_catalog\",\"org.apache.spark.sql.delta.catalog.DeltaCatalog\")\n",
    "spark = configure_spark_with_delta_pip(builder).getOrCreate()\n",
    "\n",
    "\n",
    "brbus_table = DeltaTable.create(spark) \\\n",
    "    .tableName(\"silver_brbus\") \\\n",
    "    .addColumn(\"latitude\", dataType=\"DOUBLE\") \\\n",
    "    .addColumn(\"longitude\", dataType=\"DOUBLE\") \\\n",
    "    .addColumn(\"bus_id\", dataType=\"STRING\") \\\n",
    "    .addColumn(\"city\", dataType=\"STRING\") \\\n",
    "    .addColumn(\"bus_code\", dataType=\"STRING\") \\\n",
    "    .addColumn(\"bus_speed\", dataType=\"DOUBLE\") \\\n",
    "    .addColumn(\"bus_direction\", dataType=\"INT\") \\\n",
    "    .addColumn(\"queried_at\", dataType=\"STRING\") \\\n",
    "    .addColumn(\"updated_at\", dataType=\"STRING\") \\\n",
    "    .location(\"/home/felipe/code/topicos_dados/lake/silver/silver_brbus\") \\\n",
    "    .execute()\n",
    "\n"
   ]
  },
  {
   "cell_type": "code",
   "execution_count": 42,
   "metadata": {},
   "outputs": [
    {
     "data": {
      "text/plain": [
       "DataFrame[]"
      ]
     },
     "execution_count": 42,
     "metadata": {},
     "output_type": "execute_result"
    }
   ],
   "source": [
    "spark.sql(\"DROP TABLE IF EXISTS silver_brbus\")"
   ]
  },
  {
   "cell_type": "code",
   "execution_count": 3,
   "metadata": {},
   "outputs": [
    {
     "name": "stderr",
     "output_type": "stream",
     "text": [
      "24/03/12 11:24:00 WARN SparkStringUtils: Truncated the string representation of a plan since it was too large. This behavior can be adjusted by setting 'spark.sql.debug.maxToStringFields'.\n",
      "                                                                                \r"
     ]
    },
    {
     "name": "stdout",
     "output_type": "stream",
     "text": [
      "+----------+----------+--------------+--------+----------+---------------+------+----------+--------------------+---------+-------------------+-------------+\n",
      "|  latitude| longitude|  tipo_veiculo|bus_code|  situacao|     situacao_2|tabela|is_adapted|          queried_at|   bus_id|         updated_at|bus_direction|\n",
      "+----------+----------+--------------+--------+----------+---------------+------+----------+--------------------+---------+-------------------+-------------+\n",
      "|-25.439138|-49.272285|MICRO ESPECIAL|     762|  ATRASADO|REALIZANDO ROTA|   2-2|         1|2024-01-30T23:19:21Z|CWB_JI859|2024-01-3023:18:00Z|            1|\n",
      "|-25.442966|-49.245985|MICRO ESPECIAL|     463|NO HORÁRIO|REALIZANDO ROTA|     2|         1|2024-01-30T23:19:21Z|CWB_DN603|2024-01-3023:19:00Z|            2|\n",
      "|-25.457181|-49.222675|MICRO ESPECIAL|     463|NO HORÁRIO|REALIZANDO ROTA|     4|         1|2024-01-30T23:19:21Z|CWB_DN608|2024-01-3023:19:00Z|            1|\n",
      "|-25.441758|-49.347495|    ARTICULADO|     040|  ATRASADO|REALIZANDO ROTA|     5|         1|2024-01-30T23:19:21Z|CWB_GB611|2024-01-3023:19:00Z|            2|\n",
      "|-25.474798|-49.338281|    ARTICULADO|     040|NO HORÁRIO|REALIZANDO ROTA|    12|         1|2024-01-30T23:19:21Z|CWB_HB609|2024-01-3023:19:00Z|            2|\n",
      "|-25.457398|-49.347358|    ARTICULADO|     040|NO HORÁRIO|REALIZANDO ROTA|    10|         1|2024-01-30T23:19:21Z|CWB_JB607|2024-01-3023:18:00Z|            1|\n",
      "|-25.427921|-49.353621|    ARTICULADO|     040|NO HORÁRIO|REALIZANDO ROTA|    17|         1|2024-01-30T23:19:21Z|CWB_JB608|2024-01-3023:18:00Z|            1|\n",
      "|-25.512901| -49.33078|    ARTICULADO|     040| ADIANTADO|REALIZANDO ROTA|   3-2|         1|2024-01-30T23:19:21Z|CWB_HB694|2024-01-3023:18:00Z|            2|\n",
      "|-25.400608|-49.330645|    ARTICULADO|     040|NO HORÁRIO|REALIZANDO ROTA|  22-2|         1|2024-01-30T23:19:21Z|CWB_HB606|2024-01-3023:19:00Z|            2|\n",
      "|-25.517676| -49.32013|    ARTICULADO|     040|  ATRASADO|REALIZANDO ROTA|   2-2|         1|2024-01-30T23:19:21Z|CWB_JB610|2024-01-3023:19:00Z|            1|\n",
      "|-25.495005|-49.325136|    ARTICULADO|     040|NO HORÁRIO|REALIZANDO ROTA|     6|         1|2024-01-30T23:19:21Z|CWB_JI603|2024-01-3023:19:00Z|            1|\n",
      "|-25.434863|-49.272178|        PADRON|     703|NO HORÁRIO|REALIZANDO ROTA|   7-2|         1|2024-01-30T23:19:21Z|CWB_JC313|2024-01-3023:18:00Z|            1|\n",
      "|-25.516493|-49.231033|        PADRON|     507|  ATRASADO|REALIZANDO ROTA|     6|         0|2024-01-30T23:19:21Z|CWB_EL313|2024-01-3023:19:00Z|            0|\n",
      "|-25.443528|-49.268105|        PADRON|     507|NO HORÁRIO|REALIZANDO ROTA|    12|         1|2024-01-30T23:19:21Z|CWB_EL320|2024-01-3023:19:00Z|            0|\n",
      "|-25.521886|-49.295288|        PADRON|     507|NO HORÁRIO|REALIZANDO ROTA|   9-2|         1|2024-01-30T23:19:21Z|CWB_EL323|2024-01-3023:18:00Z|            0|\n",
      "|-25.450838|-49.257558|        PADRON|     507|NO HORÁRIO|REALIZANDO ROTA|   1-2|         1|2024-01-30T23:19:21Z|CWB_EL319|2024-01-3023:19:00Z|            0|\n",
      "|-25.418691|-49.359008|         COMUM|     870|NO HORÁRIO|REALIZANDO ROTA|     2|         1|2024-01-30T23:19:21Z|CWB_BC009|2024-01-3023:19:00Z|            1|\n",
      "|-25.430103|-49.272455|         COMUM|     870|NO HORÁRIO|REALIZANDO ROTA|     3|         1|2024-01-30T23:19:21Z|CWB_BA014|2024-01-3023:19:00Z|            1|\n",
      "|-25.499591|-49.346145|         COMUM|     658|NO HORÁRIO|REALIZANDO ROTA|     2|         1|2024-01-30T23:19:21Z|CWB_HI039|2024-01-3023:19:00Z|            2|\n",
      "|-25.484886|-49.347978|         COMUM|     658|NO HORÁRIO|REALIZANDO ROTA|     3|         1|2024-01-30T23:19:21Z|CWB_JI002|2024-01-3023:18:00Z|            1|\n",
      "+----------+----------+--------------+--------+----------+---------------+------+----------+--------------------+---------+-------------------+-------------+\n",
      "only showing top 20 rows\n",
      "\n"
     ]
    }
   ],
   "source": [
    "from deltalake import DeltaTable\n",
    "\n",
    "teste = spark.read.format(\"delta\").load(\"/home/felipe/code/topicos_dados/lake/silver/silver_cwb/\")\n",
    "teste.show()"
   ]
  },
  {
   "cell_type": "code",
   "execution_count": 44,
   "metadata": {},
   "outputs": [
    {
     "name": "stdout",
     "output_type": "stream",
     "text": [
      "+--------+---------+------+----+--------+---------+-------------+----------+----------+\n",
      "|latitude|longitude|bus_id|city|bus_code|bus_speed|bus_direction|queried_at|updated_at|\n",
      "+--------+---------+------+----+--------+---------+-------------+----------+----------+\n",
      "+--------+---------+------+----+--------+---------+-------------+----------+----------+\n",
      "\n"
     ]
    }
   ],
   "source": [
    "from deltalake import DeltaTable\n",
    "\n",
    "table_brbus = spark.read.format(\"delta\").load(\"/home/felipe/code/topicos_dados/lake/silver/silver_brbus/\")\n",
    "table_brbus.show()"
   ]
  },
  {
   "cell_type": "code",
   "execution_count": 24,
   "metadata": {},
   "outputs": [
    {
     "data": {
      "text/plain": [
       "StructType([StructField('latitude', DoubleType(), True), StructField('longitude', DoubleType(), True), StructField('bus_speed', DoubleType(), True), StructField('bus_code', StringType(), True), StructField('queried_at', StringType(), True), StructField('updated_at', StringType(), True), StructField('bus_id', StringType(), True)])"
      ]
     },
     "execution_count": 24,
     "metadata": {},
     "output_type": "execute_result"
    }
   ],
   "source": [
    "rj_silver = spark.read.format(\"delta\").load(\"/home/felipe/code/topicos_dados/lake/silver/silver_rj/\")\n",
    "rj_silver.schema"
   ]
  },
  {
   "cell_type": "code",
   "execution_count": 27,
   "metadata": {},
   "outputs": [
    {
     "data": {
      "text/plain": [
       "StructType([StructField('latitude', DoubleType(), True), StructField('longitude', DoubleType(), True), StructField('bus_code', StringType(), True), StructField('station0', StringType(), True), StructField('station1', StringType(), True), StructField('queried_at', TimestampType(), True), StructField('bus_id', StringType(), True), StructField('updated_at', TimestampType(), True)])"
      ]
     },
     "execution_count": 27,
     "metadata": {},
     "output_type": "execute_result"
    }
   ],
   "source": [
    "sp_silver = spark.read.format(\"delta\").load(\"/home/felipe/code/topicos_dados/lake/silver/silver_sp/\")\n",
    "sp_silver.schema"
   ]
  },
  {
   "cell_type": "code",
   "execution_count": 17,
   "metadata": {},
   "outputs": [
    {
     "data": {
      "text/plain": [
       "StructType([StructField('latitude', StringType(), True), StructField('longitude', StringType(), True), StructField('tipo_veiculo', StringType(), True), StructField('bus_code', StringType(), True), StructField('situacao', StringType(), True), StructField('situacao_2', StringType(), True), StructField('tabela', StringType(), True), StructField('is_adapted', StringType(), True), StructField('queried_at', StringType(), True), StructField('bus_id', StringType(), True), StructField('updated_at', StringType(), True), StructField('bus_direction', IntegerType(), True)])"
      ]
     },
     "execution_count": 17,
     "metadata": {},
     "output_type": "execute_result"
    }
   ],
   "source": [
    "cwb_silver = spark.read.format(\"delta\").load(\"/home/felipe/code/topicos_dados/lake/silver/silver_cwb/\")\n",
    "cwb_silver.schema"
   ]
  },
  {
   "cell_type": "code",
   "execution_count": 18,
   "metadata": {},
   "outputs": [
    {
     "data": {
      "text/plain": [
       "StructType([StructField('longitude', DoubleType(), True), StructField('latitude', DoubleType(), True), StructField('bus_speed', DoubleType(), True), StructField('direcao', DoubleType(), True), StructField('bus_code', StringType(), True), StructField('queried_at', StringType(), True), StructField('updated_at', StringType(), True), StructField('bus_id', StringType(), True), StructField('bus_direction', IntegerType(), True)])"
      ]
     },
     "execution_count": 18,
     "metadata": {},
     "output_type": "execute_result"
    }
   ],
   "source": [
    "bsb_silver = spark.read.format(\"delta\").load(\"/home/felipe/code/topicos_dados/lake/silver/silver_bsb/\")\n",
    "bsb_silver.schema"
   ]
  },
  {
   "cell_type": "code",
   "execution_count": 45,
   "metadata": {},
   "outputs": [
    {
     "name": "stderr",
     "output_type": "stream",
     "text": [
      "24/03/14 23:49:41 WARN MemoryManager: Total allocation exceeds 95,00% (1.020.054.720 bytes) of heap memory\n",
      "Scaling row group sizes to 95,00% for 8 writers\n",
      "24/03/14 23:49:41 WARN MemoryManager: Total allocation exceeds 95,00% (1.020.054.720 bytes) of heap memory\n",
      "Scaling row group sizes to 84,44% for 9 writers\n",
      "24/03/14 23:49:41 WARN MemoryManager: Total allocation exceeds 95,00% (1.020.054.720 bytes) of heap memory\n",
      "Scaling row group sizes to 76,00% for 10 writers\n",
      "24/03/14 23:49:42 WARN MemoryManager: Total allocation exceeds 95,00% (1.020.054.720 bytes) of heap memory\n",
      "Scaling row group sizes to 84,44% for 9 writers\n",
      "24/03/14 23:49:42 WARN MemoryManager: Total allocation exceeds 95,00% (1.020.054.720 bytes) of heap memory\n",
      "Scaling row group sizes to 95,00% for 8 writers\n",
      "24/03/14 23:49:42 WARN MemoryManager: Total allocation exceeds 95,00% (1.020.054.720 bytes) of heap memory\n",
      "Scaling row group sizes to 95,00% for 8 writers\n",
      "24/03/14 23:49:42 WARN MemoryManager: Total allocation exceeds 95,00% (1.020.054.720 bytes) of heap memory\n",
      "Scaling row group sizes to 84,44% for 9 writers\n",
      "24/03/14 23:49:42 WARN MemoryManager: Total allocation exceeds 95,00% (1.020.054.720 bytes) of heap memory\n",
      "Scaling row group sizes to 76,00% for 10 writers\n",
      "24/03/14 23:49:42 WARN MemoryManager: Total allocation exceeds 95,00% (1.020.054.720 bytes) of heap memory\n",
      "Scaling row group sizes to 84,44% for 9 writers\n",
      "24/03/14 23:49:42 WARN MemoryManager: Total allocation exceeds 95,00% (1.020.054.720 bytes) of heap memory\n",
      "Scaling row group sizes to 95,00% for 8 writers\n",
      "24/03/14 23:49:43 WARN MemoryManager: Total allocation exceeds 95,00% (1.020.054.720 bytes) of heap memory\n",
      "Scaling row group sizes to 95,00% for 8 writers\n",
      "24/03/14 23:49:43 WARN MemoryManager: Total allocation exceeds 95,00% (1.020.054.720 bytes) of heap memory\n",
      "Scaling row group sizes to 84,44% for 9 writers\n",
      "24/03/14 23:49:43 WARN MemoryManager: Total allocation exceeds 95,00% (1.020.054.720 bytes) of heap memory\n",
      "Scaling row group sizes to 76,00% for 10 writers\n",
      "24/03/14 23:49:43 WARN MemoryManager: Total allocation exceeds 95,00% (1.020.054.720 bytes) of heap memory\n",
      "Scaling row group sizes to 84,44% for 9 writers\n",
      "24/03/14 23:49:43 WARN MemoryManager: Total allocation exceeds 95,00% (1.020.054.720 bytes) of heap memory\n",
      "Scaling row group sizes to 95,00% for 8 writers\n",
      "24/03/14 23:49:44 WARN MemoryManager: Total allocation exceeds 95,00% (1.020.054.720 bytes) of heap memory\n",
      "Scaling row group sizes to 95,00% for 8 writers\n",
      "24/03/14 23:49:44 WARN MemoryManager: Total allocation exceeds 95,00% (1.020.054.720 bytes) of heap memory\n",
      "Scaling row group sizes to 84,44% for 9 writers\n",
      "24/03/14 23:49:44 WARN MemoryManager: Total allocation exceeds 95,00% (1.020.054.720 bytes) of heap memory\n",
      "Scaling row group sizes to 76,00% for 10 writers\n",
      "24/03/14 23:49:44 WARN MemoryManager: Total allocation exceeds 95,00% (1.020.054.720 bytes) of heap memory\n",
      "Scaling row group sizes to 84,44% for 9 writers\n",
      "24/03/14 23:49:44 WARN MemoryManager: Total allocation exceeds 95,00% (1.020.054.720 bytes) of heap memory\n",
      "Scaling row group sizes to 95,00% for 8 writers\n"
     ]
    }
   ],
   "source": [
    "# Adding city values to each DF\n",
    "\n",
    "from pyspark.sql.functions import lit\n",
    "# SP\n",
    "\n",
    "sp_silver = spark.read.format(\"delta\").load(\"/home/felipe/code/topicos_dados/lake/silver/silver_sp/\")\n",
    "sp_silver = sp_silver.withColumn(\"city\",lit(\"Sao Paulo\"))\n",
    "sp_selected = sp_silver.select([\"longitude\", \"latitude\",\"bus_code\",\"queried_at\",\"updated_at\",\"bus_id\",\"city\"])\n",
    "\n",
    "\n",
    "# RJ\n",
    "rj_silver = spark.read.format(\"delta\").load(\"/home/felipe/code/topicos_dados/lake/silver/silver_rj/\")\n",
    "rj_silver = rj_silver.withColumn(\"city\",lit(\"Rio de Janeiro\"))\n",
    "rj_selected = rj_silver.select([\"longitude\", \"latitude\",\"bus_speed\",\"bus_code\",\"queried_at\",\"updated_at\",\"bus_id\",\"city\"])\n",
    "\n",
    "\n",
    "# CWB\n",
    "cwb_silver = spark.read.format(\"delta\").load(\"/home/felipe/code/topicos_dados/lake/silver/silver_cwb/\")\n",
    "cwb_silver = cwb_silver.withColumn(\"city\",lit(\"Curitiba\"))\n",
    "cwb_selected = cwb_silver.select([\"longitude\", \"latitude\",\"bus_code\",\"queried_at\",\"updated_at\",\"bus_id\",\"bus_direction\",\"city\"])\n",
    "\n",
    "#BSB\n",
    "\n",
    "bsb_silver = spark.read.format(\"delta\").load(\"/home/felipe/code/topicos_dados/lake/silver/silver_bsb/\")\n",
    "bsb_silver = bsb_silver.withColumn(\"city\",lit(\"Brasilia\"))\n",
    "\n",
    "bsb_selected = bsb_silver.select([\"longitude\", \"latitude\",\"bus_speed\",\"bus_code\",\"queried_at\",\"updated_at\",\"bus_id\",\"bus_direction\",\"city\"])\n",
    "\n",
    "# Merging into BRBus Table\n",
    "\n",
    "sp_selected.write.format(\"delta\").mode(\"append\").save(\"/home/felipe/code/topicos_dados/lake/silver/silver_brbus\")\n",
    "rj_selected.write.format(\"delta\").mode(\"append\").save(\"/home/felipe/code/topicos_dados/lake/silver/silver_brbus\")\n",
    "cwb_selected.write.format(\"delta\").mode(\"append\").save(\"/home/felipe/code/topicos_dados/lake/silver/silver_brbus\")\n",
    "bsb_selected.write.format(\"delta\").mode(\"append\").save(\"/home/felipe/code/topicos_dados/lake/silver/silver_brbus\")\n",
    "\n"
   ]
  },
  {
   "cell_type": "code",
   "execution_count": 46,
   "metadata": {},
   "outputs": [
    {
     "name": "stdout",
     "output_type": "stream",
     "text": [
      "+----------+----------+---------+--------+--------+---------+-------------+--------------------+-------------------+\n",
      "|  latitude| longitude|   bus_id|    city|bus_code|bus_speed|bus_direction|          queried_at|         updated_at|\n",
      "+----------+----------+---------+--------+--------+---------+-------------+--------------------+-------------------+\n",
      "|-25.435106| -49.27297|CWB_JI859|Curitiba|     762|     NULL|            1|2024-01-30T23:23:21Z|2024-01-3023:23:00Z|\n",
      "|-25.451611|-49.227308|CWB_DN603|Curitiba|     463|     NULL|            2|2024-01-30T23:23:21Z|2024-01-3023:22:00Z|\n",
      "|-25.443568| -49.23387|CWB_DN608|Curitiba|     463|     NULL|            1|2024-01-30T23:23:21Z|2024-01-3023:23:00Z|\n",
      "|-25.436141|-49.348906|CWB_GB611|Curitiba|     040|     NULL|            2|2024-01-30T23:23:21Z|2024-01-3023:22:00Z|\n",
      "|-25.466733|-49.344451|CWB_HB609|Curitiba|     040|     NULL|            2|2024-01-30T23:23:21Z|2024-01-3023:23:00Z|\n",
      "|-25.465451|-49.345108|CWB_JB607|Curitiba|     040|     NULL|            1|2024-01-30T23:23:21Z|2024-01-3023:22:00Z|\n",
      "|-25.438515| -49.34728|CWB_JB608|Curitiba|     040|     NULL|            1|2024-01-30T23:23:21Z|2024-01-3023:22:00Z|\n",
      "| -25.49972|-49.326563|CWB_HB694|Curitiba|     040|     NULL|            2|2024-01-30T23:23:21Z|2024-01-3023:23:00Z|\n",
      "|-25.400615|-49.330643|CWB_HB606|Curitiba|     040|     NULL|            2|2024-01-30T23:23:21Z|2024-01-3023:23:00Z|\n",
      "|-25.513771|-49.303841|CWB_JB610|Curitiba|     040|     NULL|            1|2024-01-30T23:23:21Z|2024-01-3023:23:00Z|\n",
      "|-25.505458|-49.328761|CWB_JI603|Curitiba|     040|     NULL|            1|2024-01-30T23:23:21Z|2024-01-3023:22:00Z|\n",
      "|-25.439856|-49.273135|CWB_JC313|Curitiba|     703|     NULL|            2|2024-01-30T23:23:21Z|2024-01-3023:23:00Z|\n",
      "| -25.52088|-49.237158|CWB_EL313|Curitiba|     507|     NULL|            0|2024-01-30T23:23:21Z|2024-01-3023:22:00Z|\n",
      "|-25.436895|-49.261425|CWB_EL320|Curitiba|     507|     NULL|            0|2024-01-30T23:23:21Z|2024-01-3023:22:00Z|\n",
      "|-25.512205|-49.294526|CWB_EL323|Curitiba|     507|     NULL|            0|2024-01-30T23:23:21Z|2024-01-3023:23:00Z|\n",
      "| -25.46424|-49.255803|CWB_EL319|Curitiba|     507|     NULL|            0|2024-01-30T23:23:21Z|2024-01-3023:23:00Z|\n",
      "|-25.424588|-49.352343|CWB_BC009|Curitiba|     870|     NULL|            1|2024-01-30T23:23:21Z|2024-01-3023:22:00Z|\n",
      "|-25.433246| -49.28238|CWB_BA014|Curitiba|     870|     NULL|            2|2024-01-30T23:23:21Z|2024-01-3023:22:00Z|\n",
      "|-25.493818| -49.35247|CWB_HI039|Curitiba|     658|     NULL|            2|2024-01-30T23:23:21Z|2024-01-3023:23:00Z|\n",
      "|-25.490511|-49.345973|CWB_JI002|Curitiba|     658|     NULL|            1|2024-01-30T23:23:21Z|2024-01-3023:23:00Z|\n",
      "+----------+----------+---------+--------+--------+---------+-------------+--------------------+-------------------+\n",
      "only showing top 20 rows\n",
      "\n"
     ]
    }
   ],
   "source": [
    "brbus = spark.read.format(\"delta\").load(\"/home/felipe/code/topicos_dados/lake/silver/silver_brbus/\")\n",
    "brbus.show()\n",
    "\n"
   ]
  }
 ],
 "metadata": {
  "kernelspec": {
   "display_name": "venv",
   "language": "python",
   "name": "python3"
  },
  "language_info": {
   "codemirror_mode": {
    "name": "ipython",
    "version": 3
   },
   "file_extension": ".py",
   "mimetype": "text/x-python",
   "name": "python",
   "nbconvert_exporter": "python",
   "pygments_lexer": "ipython3",
   "version": "3.11.4"
  }
 },
 "nbformat": 4,
 "nbformat_minor": 2
}
