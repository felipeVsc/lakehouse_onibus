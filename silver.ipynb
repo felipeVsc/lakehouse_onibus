{
 "cells": [
  {
   "cell_type": "code",
   "execution_count": 9,
   "metadata": {},
   "outputs": [
    {
     "name": "stdout",
     "output_type": "stream",
     "text": [
      "3.5.0\n"
     ]
    }
   ],
   "source": [
    "# Operações para Silver\n",
    "\n",
    "from pyspark.sql import *\n",
    "from delta import *\n",
    "\n",
    "builder = SparkSession.builder.appName(\"topicos\").config(\"spark.sql.extensions\",\"io.delta.sql.DeltaSparkSessionExtension\").config(\"spark.sql.catalog.spark_catalog\",\"org.apache.spark.sql.delta.catalog.DeltaCatalog\")\n",
    "spark = configure_spark_with_delta_pip(builder).getOrCreate()\n",
    "\n",
    "INPUT_PATH = \"/home/felipe/code/topicos_dados/dados/\"\n",
    "BRONZE_PATH = \"/home/felipe/code/deltalake/lake/bronze/\"\n",
    "SILVER_PATH = \"/home/felipe/code/deltalake/lake/silver/\"\n",
    "\n",
    "print(spark.version)\n"
   ]
  },
  {
   "cell_type": "code",
   "execution_count": 18,
   "metadata": {},
   "outputs": [],
   "source": [
    "from pyspark.sql import *\n",
    "from delta import *\n",
    "\n",
    "builder = SparkSession.builder.appName(\"topicos\").config(\"spark.sql.extensions\",\"io.delta.sql.DeltaSparkSessionExtension\").config(\"spark.sql.catalog.spark_catalog\",\"org.apache.spark.sql.delta.catalog.DeltaCatalog\")\n",
    "spark = configure_spark_with_delta_pip(builder).getOrCreate()\n",
    "\n",
    "\n",
    "brbus_table = DeltaTable.create(spark) \\\n",
    "    .tableName(\"silver_brbus\") \\\n",
    "    .addColumn(\"latitude\", dataType=\"FLOAT\", nullable=False) \\\n",
    "    .addColumn(\"longitude\", dataType=\"FLOAT\") \\\n",
    "    .addColumn(\"bus_id\", dataType=\"STRING\") \\\n",
    "    .addColumn(\"city\", dataType=\"STRING\") \\\n",
    "    .addColumn(\"bus_code\", dataType=\"STRING\") \\\n",
    "    .addColumn(\"bus_speed\", dataType=\"FLOAT\") \\\n",
    "    .addColumn(\"bus_direction\", dataType=\"INT\") \\\n",
    "    .addColumn(\"queried_at\", dataType=\"STRING\") \\\n",
    "    .addColumn(\"updated_at\", dataType=\"STRING\") \\\n",
    "    .location(\"/home/felipe/code/topicos_dados/lake/silver/silver_brbus\") \\\n",
    "    .execute()\n",
    "\n"
   ]
  },
  {
   "cell_type": "code",
   "execution_count": 3,
   "metadata": {},
   "outputs": [
    {
     "name": "stderr",
     "output_type": "stream",
     "text": [
      "24/03/12 11:24:00 WARN SparkStringUtils: Truncated the string representation of a plan since it was too large. This behavior can be adjusted by setting 'spark.sql.debug.maxToStringFields'.\n",
      "                                                                                \r"
     ]
    },
    {
     "name": "stdout",
     "output_type": "stream",
     "text": [
      "+----------+----------+--------------+--------+----------+---------------+------+----------+--------------------+---------+-------------------+-------------+\n",
      "|  latitude| longitude|  tipo_veiculo|bus_code|  situacao|     situacao_2|tabela|is_adapted|          queried_at|   bus_id|         updated_at|bus_direction|\n",
      "+----------+----------+--------------+--------+----------+---------------+------+----------+--------------------+---------+-------------------+-------------+\n",
      "|-25.439138|-49.272285|MICRO ESPECIAL|     762|  ATRASADO|REALIZANDO ROTA|   2-2|         1|2024-01-30T23:19:21Z|CWB_JI859|2024-01-3023:18:00Z|            1|\n",
      "|-25.442966|-49.245985|MICRO ESPECIAL|     463|NO HORÁRIO|REALIZANDO ROTA|     2|         1|2024-01-30T23:19:21Z|CWB_DN603|2024-01-3023:19:00Z|            2|\n",
      "|-25.457181|-49.222675|MICRO ESPECIAL|     463|NO HORÁRIO|REALIZANDO ROTA|     4|         1|2024-01-30T23:19:21Z|CWB_DN608|2024-01-3023:19:00Z|            1|\n",
      "|-25.441758|-49.347495|    ARTICULADO|     040|  ATRASADO|REALIZANDO ROTA|     5|         1|2024-01-30T23:19:21Z|CWB_GB611|2024-01-3023:19:00Z|            2|\n",
      "|-25.474798|-49.338281|    ARTICULADO|     040|NO HORÁRIO|REALIZANDO ROTA|    12|         1|2024-01-30T23:19:21Z|CWB_HB609|2024-01-3023:19:00Z|            2|\n",
      "|-25.457398|-49.347358|    ARTICULADO|     040|NO HORÁRIO|REALIZANDO ROTA|    10|         1|2024-01-30T23:19:21Z|CWB_JB607|2024-01-3023:18:00Z|            1|\n",
      "|-25.427921|-49.353621|    ARTICULADO|     040|NO HORÁRIO|REALIZANDO ROTA|    17|         1|2024-01-30T23:19:21Z|CWB_JB608|2024-01-3023:18:00Z|            1|\n",
      "|-25.512901| -49.33078|    ARTICULADO|     040| ADIANTADO|REALIZANDO ROTA|   3-2|         1|2024-01-30T23:19:21Z|CWB_HB694|2024-01-3023:18:00Z|            2|\n",
      "|-25.400608|-49.330645|    ARTICULADO|     040|NO HORÁRIO|REALIZANDO ROTA|  22-2|         1|2024-01-30T23:19:21Z|CWB_HB606|2024-01-3023:19:00Z|            2|\n",
      "|-25.517676| -49.32013|    ARTICULADO|     040|  ATRASADO|REALIZANDO ROTA|   2-2|         1|2024-01-30T23:19:21Z|CWB_JB610|2024-01-3023:19:00Z|            1|\n",
      "|-25.495005|-49.325136|    ARTICULADO|     040|NO HORÁRIO|REALIZANDO ROTA|     6|         1|2024-01-30T23:19:21Z|CWB_JI603|2024-01-3023:19:00Z|            1|\n",
      "|-25.434863|-49.272178|        PADRON|     703|NO HORÁRIO|REALIZANDO ROTA|   7-2|         1|2024-01-30T23:19:21Z|CWB_JC313|2024-01-3023:18:00Z|            1|\n",
      "|-25.516493|-49.231033|        PADRON|     507|  ATRASADO|REALIZANDO ROTA|     6|         0|2024-01-30T23:19:21Z|CWB_EL313|2024-01-3023:19:00Z|            0|\n",
      "|-25.443528|-49.268105|        PADRON|     507|NO HORÁRIO|REALIZANDO ROTA|    12|         1|2024-01-30T23:19:21Z|CWB_EL320|2024-01-3023:19:00Z|            0|\n",
      "|-25.521886|-49.295288|        PADRON|     507|NO HORÁRIO|REALIZANDO ROTA|   9-2|         1|2024-01-30T23:19:21Z|CWB_EL323|2024-01-3023:18:00Z|            0|\n",
      "|-25.450838|-49.257558|        PADRON|     507|NO HORÁRIO|REALIZANDO ROTA|   1-2|         1|2024-01-30T23:19:21Z|CWB_EL319|2024-01-3023:19:00Z|            0|\n",
      "|-25.418691|-49.359008|         COMUM|     870|NO HORÁRIO|REALIZANDO ROTA|     2|         1|2024-01-30T23:19:21Z|CWB_BC009|2024-01-3023:19:00Z|            1|\n",
      "|-25.430103|-49.272455|         COMUM|     870|NO HORÁRIO|REALIZANDO ROTA|     3|         1|2024-01-30T23:19:21Z|CWB_BA014|2024-01-3023:19:00Z|            1|\n",
      "|-25.499591|-49.346145|         COMUM|     658|NO HORÁRIO|REALIZANDO ROTA|     2|         1|2024-01-30T23:19:21Z|CWB_HI039|2024-01-3023:19:00Z|            2|\n",
      "|-25.484886|-49.347978|         COMUM|     658|NO HORÁRIO|REALIZANDO ROTA|     3|         1|2024-01-30T23:19:21Z|CWB_JI002|2024-01-3023:18:00Z|            1|\n",
      "+----------+----------+--------------+--------+----------+---------------+------+----------+--------------------+---------+-------------------+-------------+\n",
      "only showing top 20 rows\n",
      "\n"
     ]
    }
   ],
   "source": [
    "from deltalake import DeltaTable\n",
    "\n",
    "teste = spark.read.format(\"delta\").load(\"/home/felipe/code/topicos_dados/lake/silver/silver_cwb/\")\n",
    "teste.show()"
   ]
  },
  {
   "cell_type": "code",
   "execution_count": 19,
   "metadata": {},
   "outputs": [
    {
     "name": "stdout",
     "output_type": "stream",
     "text": [
      "+--------+---------+------+----+--------+---------+-------------+----------+----------+\n",
      "|latitude|longitude|bus_id|city|bus_code|bus_speed|bus_direction|queried_at|updated_at|\n",
      "+--------+---------+------+----+--------+---------+-------------+----------+----------+\n",
      "+--------+---------+------+----+--------+---------+-------------+----------+----------+\n",
      "\n"
     ]
    }
   ],
   "source": [
    "from deltalake import DeltaTable\n",
    "\n",
    "table_brbus = spark.read.format(\"delta\").load(\"/home/felipe/code/topicos_dados/lake/silver/silver_brbus/\")\n",
    "table_brbus.show()"
   ]
  },
  {
   "cell_type": "code",
   "execution_count": 22,
   "metadata": {},
   "outputs": [
    {
     "name": "stdout",
     "output_type": "stream",
     "text": [
      "+---------+---------+---------+--------+--------------------+--------------------+----------+-------------+\n",
      "|longitude| latitude|bus_speed|bus_code|          queried_at|          updated_at|    bus_id|bus_direction|\n",
      "+---------+---------+---------+--------+--------------------+--------------------+----------+-------------+\n",
      "|-47.90188|-15.78581|    16.67|   0.882|2024-01-30T23:24:31Z|2024-01-301706665...|BSB_336921|            2|\n",
      "|-47.95254| -15.8094|    18.61|   0.813|2024-01-30T23:24:31Z|2024-01-301706667...|BSB_336408|            2|\n",
      "|-47.89276| -15.8111|     6.94|   0.373|2024-01-30T23:24:31Z|2024-01-301706667...|BSB_340103|            1|\n",
      "| -48.1512| -15.8845|      0.0|   373.2|2024-01-30T23:24:31Z|2024-01-301706667...|BSB_335991|            1|\n",
      "|-47.95401|-15.84706|    16.94|   0.821|2024-01-30T23:24:31Z|2024-01-301706667...|BSB_335487|            1|\n",
      "|-48.15105|-15.88424|     0.56|   0.373|2024-01-30T23:24:31Z|2024-01-301706667...|BSB_340065|            1|\n",
      "|-48.04572|  -15.853|      0.0|   0.805|2024-01-30T23:24:31Z|2024-01-301706667...|BSB_336823|            1|\n",
      "|-48.12791| -15.9004|     5.56|   0.845|2024-01-30T23:24:31Z|2024-01-301706667...|BSB_336793|            2|\n",
      "|-48.06717|-15.80289|     4.17|   0.053|2024-01-30T23:24:31Z|2024-01-301706667...|BSB_335746|            1|\n",
      "|-47.96754|-15.86984|     6.11|   0.160|2024-01-30T23:24:31Z|2024-01-301706667...|BSB_340383|            2|\n",
      "|-48.05416|-15.92125|     3.61|   0.871|2024-01-30T23:24:31Z|2024-01-301706667...|BSB_336386|            2|\n",
      "|-48.11047|-15.87624|      0.0|   366.7|2024-01-30T23:24:31Z|2024-01-301706667...|BSB_340863|            1|\n",
      "| -47.8957|-15.81185|    16.67|   870.1|2024-01-30T23:24:31Z|2024-01-301706667...|BSB_337668|            2|\n",
      "|-47.89933|-15.73762|     6.94|   396.3|2024-01-30T23:24:31Z|2024-01-301706667...|BSB_339237|            2|\n",
      "|-48.10018|-15.86896|      5.0|   0.380|2024-01-30T23:24:31Z|2024-01-301706667...|BSB_336360|            1|\n",
      "|-48.09083|-15.87103|    11.11|   366.1|2024-01-30T23:24:31Z|2024-01-301706667...|BSB_340626|            2|\n",
      "| -48.0452|-15.92257|     15.0|   0.873|2024-01-30T23:24:31Z|2024-01-301706667...|BSB_337242|            2|\n",
      "|-48.04008|-15.87385|    18.61|   0.821|2024-01-30T23:24:31Z|2024-01-301706667...|BSB_335495|            2|\n",
      "| -47.9538|-15.84344|    21.67|   0.811|2024-01-30T23:24:31Z|2024-01-301706667...|BSB_338559|            2|\n",
      "|-47.95108|-15.82523|    18.33|    3964|2024-01-30T23:24:31Z|2024-01-301706667...|BSB_340847|            2|\n",
      "+---------+---------+---------+--------+--------------------+--------------------+----------+-------------+\n",
      "only showing top 20 rows\n",
      "\n"
     ]
    }
   ],
   "source": [
    "# Adding city values to each DF\n",
    "\n",
    "from pyspark.sql.functions import lit\n",
    "# SP\n",
    "\n",
    "sp_silver = spark.read.format(\"delta\").load(\"/home/felipe/code/topicos_dados/lake/silver/silver_sp/\")\n",
    "sp_silver = sp_silver.withColumn(\"city\",lit(\"Sao Paulo\"))\n",
    "sp_selected = sp_silver.select([\"longitude\", \"latitude\",\"bus_code\",\"queried_at\",\"updated_at\",\"bus_id\"])\n",
    "\n",
    "\n",
    "# RJ\n",
    "rj_silver = spark.read.format(\"delta\").load(\"/home/felipe/code/topicos_dados/lake/silver/silver_rj/\")\n",
    "rj_silver = rj_silver.withColumn(\"city\",lit(\"Rio de Janeiro\"))\n",
    "rj_selected = rj_silver.select([\"longitude\", \"latitude\",\"bus_speed\",\"bus_code\",\"queried_at\",\"updated_at\",\"bus_id\"])\n",
    "\n",
    "# CWB\n",
    "cwb_silver = spark.read.format(\"delta\").load(\"/home/felipe/code/topicos_dados/lake/silver/silver_cwb/\")\n",
    "cwb_silver = cwb_silver.withColumn(\"city\",lit(\"Curitiba\"))\n",
    "cwb_selected = cwb_silver.select([\"longitude\", \"latitude\",\"bus_code\",\"queried_at\",\"updated_at\",\"bus_id\",\"bus_direction\"])\n",
    "\n",
    "#BSB\n",
    "\n",
    "bsb_silver = spark.read.format(\"delta\").load(\"/home/felipe/code/topicos_dados/lake/silver/silver_bsb/\")\n",
    "bsb_silver = bsb_silver.withColumn(\"city\",lit(\"Brasilia\"))\n",
    "\n",
    "bsb_selected = bsb_silver.select([\"longitude\", \"latitude\",\"bus_speed\",\"bus_code\",\"queried_at\",\"updated_at\",\"bus_id\",\"bus_direction\"])\n",
    "\n",
    "bsb_selected.show()\n",
    "# Merging into BRBus Table\n",
    "\n"
   ]
  }
 ],
 "metadata": {
  "kernelspec": {
   "display_name": "venv",
   "language": "python",
   "name": "python3"
  },
  "language_info": {
   "codemirror_mode": {
    "name": "ipython",
    "version": 3
   },
   "file_extension": ".py",
   "mimetype": "text/x-python",
   "name": "python",
   "nbconvert_exporter": "python",
   "pygments_lexer": "ipython3",
   "version": "3.11.4"
  }
 },
 "nbformat": 4,
 "nbformat_minor": 2
}
