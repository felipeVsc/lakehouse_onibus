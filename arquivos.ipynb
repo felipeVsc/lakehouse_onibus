{
 "cells": [
  {
   "cell_type": "code",
   "execution_count": 13,
   "metadata": {},
   "outputs": [
    {
     "name": "stdout",
     "output_type": "stream",
     "text": [
      "+-------------------+-------------------+--------------------+---------+-------+-------------------+--------------------+--------------------+\n",
      "|           latitude|          longitude|       tempo_captura|id_onibus|      c|                lt0|                 lt1|          inputFiles|\n",
      "+-------------------+-------------------+--------------------+---------+-------+-------------------+--------------------+--------------------+\n",
      "|         -23.552871|-46.647738000000004|2024-01-31T01:39:09Z|    71212|609F-10|TERM. PRINC. ISABEL|       CHÁC. SANTANA|file:///home/feli...|\n",
      "|        -23.6532175| -46.74036099999999|2024-01-31T01:38:46Z|    71739|609F-10|TERM. PRINC. ISABEL|       CHÁC. SANTANA|file:///home/feli...|\n",
      "|        -23.6680755|         -46.748797|2024-01-31T01:38:37Z|    71361|609F-10|TERM. PRINC. ISABEL|       CHÁC. SANTANA|file:///home/feli...|\n",
      "|         -23.534974|        -46.6443435|2024-01-31T01:38:55Z|    71740|609F-10|TERM. PRINC. ISABEL|       CHÁC. SANTANA|file:///home/feli...|\n",
      "|        -23.6168605| -46.70167549999999|2024-01-31T01:38:36Z|    71839|609F-10|TERM. PRINC. ISABEL|       CHÁC. SANTANA|file:///home/feli...|\n",
      "|      -23.574599125|        -46.6680825|2024-01-31T01:38:47Z|    71844|609F-10|TERM. PRINC. ISABEL|       CHÁC. SANTANA|file:///home/feli...|\n",
      "|-23.668001500000003|        -46.7491535|2024-01-31T01:38:41Z|    71860|609F-10|TERM. PRINC. ISABEL|       CHÁC. SANTANA|file:///home/feli...|\n",
      "|         -23.541446|-46.536075499999995|2024-01-31T01:39:06Z|    48788|407I-10|      METRÔ BRESSER|CONJ. MANOEL DA N...|file:///home/feli...|\n",
      "|-23.549667499999998|-46.483762999999996|2024-01-31T01:38:43Z|    48985|407I-10|      METRÔ BRESSER|CONJ. MANOEL DA N...|file:///home/feli...|\n",
      "|        -23.5433355| -46.48539675000001|2024-01-31T01:38:46Z|    48445|407I-10|      METRÔ BRESSER|CONJ. MANOEL DA N...|file:///home/feli...|\n",
      "|        -23.5955305|           -46.6799|2024-01-31T01:39:01Z|    63370|576M-10|          PINHEIROS|           VL. CLARA|file:///home/feli...|\n",
      "|        -23.6368035|         -46.641181|2024-01-31T01:38:57Z|    63366|576M-10|          PINHEIROS|           VL. CLARA|file:///home/feli...|\n",
      "|-23.678067499999997|-46.640125499999996|2024-01-31T01:39:07Z|    63367|576M-10|          PINHEIROS|           VL. CLARA|file:///home/feli...|\n",
      "|         -23.565959|        -46.6944145|2024-01-31T01:38:32Z|    63369|576M-10|          PINHEIROS|           VL. CLARA|file:///home/feli...|\n",
      "|-23.678067499999997|-46.640125499999996|2024-01-31T01:39:08Z|    63344|576M-10|          PINHEIROS|           VL. CLARA|file:///home/feli...|\n",
      "|         -23.570103|         -46.486686|2024-01-31T01:38:36Z|    45676|3778-10|       METRÔ CARRÃO|  JD. STA. TEREZINHA|file:///home/feli...|\n",
      "|        -23.5753505|-46.497097499999995|2024-01-31T01:38:30Z|    45474|3778-10|       METRÔ CARRÃO|  JD. STA. TEREZINHA|file:///home/feli...|\n",
      "|         -23.570103|         -46.486686|2024-01-31T01:38:58Z|    45530|3778-10|       METRÔ CARRÃO|  JD. STA. TEREZINHA|file:///home/feli...|\n",
      "|-23.568366875000002|       -46.50955725|2024-01-31T01:39:13Z|    45327|3778-10|       METRÔ CARRÃO|  JD. STA. TEREZINHA|file:///home/feli...|\n",
      "|       -23.67216275|        -46.6441475|2024-01-31T01:38:45Z|    68258|5702-10|    METRÔ JABAQUARA|REFÚGIO STA. TERE...|file:///home/feli...|\n",
      "|          -23.69827|         -46.646032|2024-01-31T01:39:08Z|    68884|5702-10|    METRÔ JABAQUARA|REFÚGIO STA. TERE...|file:///home/feli...|\n",
      "|        -23.6980845|        -46.6460855|2024-01-31T01:38:52Z|    68888|5702-10|    METRÔ JABAQUARA|REFÚGIO STA. TERE...|file:///home/feli...|\n",
      "|-23.543414499999997|-46.464752000000004|2024-01-31T01:38:45Z|    36153|407T-10|     METRÔ ITAQUERA|           JD. REDIL|file:///home/feli...|\n",
      "|       -23.53781325|       -46.44005625|2024-01-31T01:38:31Z|    36325|407T-10|     METRÔ ITAQUERA|           JD. REDIL|file:///home/feli...|\n",
      "|        -23.5429455|       -46.46791075|2024-01-31T01:38:43Z|    36687|407T-10|     METRÔ ITAQUERA|           JD. REDIL|file:///home/feli...|\n",
      "|        -23.5384515|       -46.44110425|2024-01-31T01:38:55Z|    36595|407T-10|     METRÔ ITAQUERA|           JD. REDIL|file:///home/feli...|\n",
      "|-23.520215999999998|-46.700196000000005|2024-01-31T01:39:03Z|    11459|8300-10|         TERM. LAPA|      TERM. PIRITUBA|file:///home/feli...|\n",
      "|        -23.4935255|        -46.7093165|2024-01-31T01:39:03Z|    11720|8300-10|         TERM. LAPA|      TERM. PIRITUBA|file:///home/feli...|\n",
      "|-23.520215999999998|-46.700196000000005|2024-01-31T01:38:55Z|    11877|8300-10|         TERM. LAPA|      TERM. PIRITUBA|file:///home/feli...|\n",
      "|       -23.52114525|       -46.38738525|2024-01-31T01:38:52Z|    36039|2008-10|CPTM ITAIM PAULISTA|JD. NSA. SRA. DO ...|file:///home/feli...|\n",
      "|       -23.49986375|         -46.399138|2024-01-31T01:38:52Z|    36019|2008-10|CPTM ITAIM PAULISTA|JD. NSA. SRA. DO ...|file:///home/feli...|\n",
      "|       -23.52026875|          -46.38865|2024-01-31T01:38:50Z|    36060|2008-10|CPTM ITAIM PAULISTA|JD. NSA. SRA. DO ...|file:///home/feli...|\n",
      "|       -23.52114525|       -46.38738525|2024-01-31T01:38:41Z|    36086|2008-10|CPTM ITAIM PAULISTA|JD. NSA. SRA. DO ...|file:///home/feli...|\n",
      "|        -23.6469585|        -46.6748945|2024-01-31T01:38:44Z|    63676|5652-10|         PÇA. DA SÉ|   JD. IV CENTENÁRIO|file:///home/feli...|\n",
      "|-23.597020999999998|       -46.65102775|2024-01-31T01:39:09Z|    63269|5652-10|         PÇA. DA SÉ|   JD. IV CENTENÁRIO|file:///home/feli...|\n",
      "|         -23.711728|         -46.686792|2024-01-31T01:39:08Z|    63162|5652-10|         PÇA. DA SÉ|   JD. IV CENTENÁRIO|file:///home/feli...|\n",
      "|       -23.67923275|        -46.6859935|2024-01-31T01:38:37Z|    63334|5652-10|         PÇA. DA SÉ|   JD. IV CENTENÁRIO|file:///home/feli...|\n",
      "|-23.522572250000003| -46.66452174999999|2024-01-31T01:38:28Z|    11707|978L-10|TERM. PRINC. ISABEL|  TERM. CACHOEIRINHA|file:///home/feli...|\n",
      "|-23.521850999999998|        -46.4244515|2024-01-31T01:38:27Z|    32844|273V-10|        METRÔ PENHA|PARADA XV DE NOVE...|file:///home/feli...|\n",
      "|-23.519732749999996|-46.437813375000005|2024-01-31T01:39:05Z|    32874|273V-10|        METRÔ PENHA|PARADA XV DE NOVE...|file:///home/feli...|\n",
      "|      -23.489837625|       -46.76664975|2024-01-31T01:38:39Z|    16429|8013-10|               LAPA|  TERM. JD. BRITANIA|file:///home/feli...|\n",
      "|        -23.5134245|-46.726335000000006|2024-01-31T01:38:18Z|    16376|8013-10|               LAPA|  TERM. JD. BRITANIA|file:///home/feli...|\n",
      "|      -23.436305125|        -46.7860735|2024-01-31T01:38:52Z|    16349|8013-10|               LAPA|  TERM. JD. BRITANIA|file:///home/feli...|\n",
      "|         -23.516265|         -46.587981|2024-01-31T01:39:03Z|    26507|172J-10|            TATUAPÉ|          JD. BRASIL|file:///home/feli...|\n",
      "|         -23.489365|       -46.56996025|2024-01-31T01:35:15Z|    26105|172J-10|            TATUAPÉ|          JD. BRASIL|file:///home/feli...|\n",
      "|         -23.531266|-46.578759250000004|2024-01-31T01:38:46Z|    26521|172J-10|            TATUAPÉ|          JD. BRASIL|file:///home/feli...|\n",
      "|        -23.5306105|-46.583994000000004|2024-01-31T01:39:02Z|    26420|172J-10|            TATUAPÉ|          JD. BRASIL|file:///home/feli...|\n",
      "|-23.479367500000002|         -46.568922|2024-01-31T01:38:50Z|    26305|172J-10|            TATUAPÉ|          JD. BRASIL|file:///home/feli...|\n",
      "|        -23.6146805|         -46.470593|2024-01-31T01:38:55Z|    55012|3099-10|   JD. DA CONQUISTA|    HOSP. SÃO MATEUS|file:///home/feli...|\n",
      "|-23.593412875000002|-46.488488499999995|2024-01-31T01:38:41Z|    55017|3099-10|   JD. DA CONQUISTA|    HOSP. SÃO MATEUS|file:///home/feli...|\n",
      "+-------------------+-------------------+--------------------+---------+-------+-------------------+--------------------+--------------------+\n",
      "only showing top 50 rows\n",
      "\n"
     ]
    },
    {
     "data": {
      "text/plain": [
       "['latitude',\n",
       " 'longitude',\n",
       " 'tempo_captura',\n",
       " 'id_onibus',\n",
       " 'c',\n",
       " 'lt0',\n",
       " 'lt1',\n",
       " 'inputFiles']"
      ]
     },
     "execution_count": 13,
     "metadata": {},
     "output_type": "execute_result"
    }
   ],
   "source": [
    "from pyspark.sql import *\n",
    "from delta import *\n",
    "from pyspark.sql.functions import input_file_name\n",
    "\n",
    "builder = SparkSession.builder.appName(\"topicos\").config(\"spark.sql.extensions\",\"io.delta.sql.DeltaSparkSessionExtension\").config(\"spark.sql.catalog.spark_catalog\",\"org.apache.spark.sql.delta.catalog.DeltaCatalog\")\n",
    "spark = configure_spark_with_delta_pip(builder).getOrCreate()\n",
    "\n",
    "INPUT_PATH = \"/home/felipe/code/topicos_dados/dados/\"\n",
    "BRONZE_PATH = \"/home/felipe/code/deltalake/lake/bronze/\"\n",
    "SILVER_PATH = \"/home/felipe/code/deltalake/lake/silver/\"\n",
    "\n",
    "def teste():\n",
    "    return input_file_name()\n",
    "\n",
    "sp = spark.read.format(\"parquet\").option(\"inferSchema\",\"true\").option(\"header\",\"true\").load(f\"{INPUT_PATH}/sp_micro\").withColumn(\"inputFiles\",input_file_name())\n",
    "sp.show(50)\n",
    "sp.columns\n"
   ]
  },
  {
   "cell_type": "code",
   "execution_count": null,
   "metadata": {},
   "outputs": [],
   "source": []
  },
  {
   "cell_type": "code",
   "execution_count": 12,
   "metadata": {},
   "outputs": [
    {
     "name": "stdout",
     "output_type": "stream",
     "text": [
      "+--------------------+\n",
      "|          inputFiles|\n",
      "+--------------------+\n",
      "|file:///home/feli...|\n",
      "|file:///home/feli...|\n",
      "|file:///home/feli...|\n",
      "|file:///home/feli...|\n",
      "|file:///home/feli...|\n",
      "+--------------------+\n",
      "only showing top 5 rows\n",
      "\n"
     ]
    }
   ],
   "source": [
    "sp = spark.read.format(\"parquet\").option(\"inferSchema\",\"true\").option(\"header\",\"true\").load(f\"{INPUT_PATH}/sp_micro\").withColumn(\"inputFiles\",input_file_name())\n",
    "sp.select(\"inputFiles\").show(5)\n",
    "\n"
   ]
  },
  {
   "cell_type": "code",
   "execution_count": 1,
   "metadata": {},
   "outputs": [
    {
     "name": "stderr",
     "output_type": "stream",
     "text": [
      "24/03/11 18:20:52 WARN Utils: Your hostname, desktop resolves to a loopback address: 127.0.1.1; using 192.168.0.106 instead (on interface enp6s0)\n",
      "24/03/11 18:20:52 WARN Utils: Set SPARK_LOCAL_IP if you need to bind to another address\n",
      "Ivy Default Cache set to: /home/felipe/.ivy2/cache\n",
      "The jars for the packages stored in: /home/felipe/.ivy2/jars\n",
      "io.delta#delta-spark_2.12 added as a dependency\n",
      ":: resolving dependencies :: org.apache.spark#spark-submit-parent-ec36cee3-b627-4b15-a2a7-7773c7d838db;1.0\n",
      "\tconfs: [default]\n"
     ]
    },
    {
     "name": "stdout",
     "output_type": "stream",
     "text": [
      ":: loading settings :: url = jar:file:/home/felipe/.local/lib/python3.11/site-packages/pyspark/jars/ivy-2.5.1.jar!/org/apache/ivy/core/settings/ivysettings.xml\n"
     ]
    },
    {
     "name": "stderr",
     "output_type": "stream",
     "text": [
      "\tfound io.delta#delta-spark_2.12;3.1.0 in central\n",
      "\tfound io.delta#delta-storage;3.1.0 in central\n",
      "\tfound org.antlr#antlr4-runtime;4.9.3 in central\n",
      ":: resolution report :: resolve 102ms :: artifacts dl 4ms\n",
      "\t:: modules in use:\n",
      "\tio.delta#delta-spark_2.12;3.1.0 from central in [default]\n",
      "\tio.delta#delta-storage;3.1.0 from central in [default]\n",
      "\torg.antlr#antlr4-runtime;4.9.3 from central in [default]\n",
      "\t---------------------------------------------------------------------\n",
      "\t|                  |            modules            ||   artifacts   |\n",
      "\t|       conf       | number| search|dwnlded|evicted|| number|dwnlded|\n",
      "\t---------------------------------------------------------------------\n",
      "\t|      default     |   3   |   0   |   0   |   0   ||   3   |   0   |\n",
      "\t---------------------------------------------------------------------\n",
      ":: retrieving :: org.apache.spark#spark-submit-parent-ec36cee3-b627-4b15-a2a7-7773c7d838db\n",
      "\tconfs: [default]\n",
      "\t0 artifacts copied, 3 already retrieved (0kB/5ms)\n",
      "24/03/11 18:20:52 WARN NativeCodeLoader: Unable to load native-hadoop library for your platform... using builtin-java classes where applicable\n",
      "Setting default log level to \"WARN\".\n",
      "To adjust logging level use sc.setLogLevel(newLevel). For SparkR, use setLogLevel(newLevel).\n",
      "24/03/11 18:20:53 WARN Utils: Service 'SparkUI' could not bind on port 4040. Attempting port 4041.\n",
      "                                                                                \r"
     ]
    },
    {
     "name": "stdout",
     "output_type": "stream",
     "text": [
      "+---------+----------+----------+-------------+--------------+-----+----------+-----------------+--------+------+--------+--------------------+\n",
      "|id_onibus|  latitude| longitude|tempo_captura|  tipo_veiculo|linha|  situacao|       situacao_2| sentido|tabela|adaptado|          inputFiles|\n",
      "+---------+----------+----------+-------------+--------------+-----+----------+-----------------+--------+------+--------+--------------------+\n",
      "|    JI859|-25.453483| -49.28948|        22:42|MICRO ESPECIAL|  762|NO HORÁRIO|  REALIZANDO ROTA|   VOLTA|   2-2|       1|file:///home/feli...|\n",
      "|    DN603|-25.481223|-49.196893|        22:38|MICRO ESPECIAL|  463|NO HORÁRIO|  REALIZANDO ROTA|     IDA|     2|       1|file:///home/feli...|\n",
      "|    DN608|-25.432205|  -49.2658|        22:42|MICRO ESPECIAL|  463|NO HORÁRIO|  REALIZANDO ROTA|   VOLTA|     4|       1|file:///home/feli...|\n",
      "|    GB611|-25.514096|-49.322986|        22:42|    ARTICULADO|  040|NO HORÁRIO|  REALIZANDO ROTA|   VOLTA|     5|       1|file:///home/feli...|\n",
      "|    JB604|-25.449036|-49.365315|        22:42|    ARTICULADO|  REC|          |                 |        |      |       1|file:///home/feli...|\n",
      "|    HB609|-25.516875|-49.318451|        22:42|    ARTICULADO|  040|NO HORÁRIO|  REALIZANDO ROTA|     IDA|    12|       1|file:///home/feli...|\n",
      "|    JB607|-25.401065|-49.334415|        22:42|    ARTICULADO|  040|NO HORÁRIO|  REALIZANDO ROTA|   VOLTA|    10|       1|file:///home/feli...|\n",
      "|    JB608|-25.441675| -49.34608|        22:42|    ARTICULADO|  040|NO HORÁRIO|  REALIZANDO ROTA|   VOLTA|    17|       1|file:///home/feli...|\n",
      "|    HB694|-25.494071|-49.324508|        22:42|    ARTICULADO|  040|NO HORÁRIO|  REALIZANDO ROTA|     IDA|   3-2|       1|file:///home/feli...|\n",
      "|    HB606|-25.477678|-49.332613|        22:42|    ARTICULADO|  040|  ATRASADO|  REALIZANDO ROTA|   VOLTA|  22-2|       1|file:///home/feli...|\n",
      "|    JB610|-25.453843|-49.348961|        22:42|    ARTICULADO|  040|NO HORÁRIO|  REALIZANDO ROTA|     IDA|   2-2|       1|file:///home/feli...|\n",
      "|    JI603|-25.419908|-49.348435|        22:42|    ARTICULADO|  040|NO HORÁRIO|  REALIZANDO ROTA|     IDA|     6|       1|file:///home/feli...|\n",
      "|    JC313|-25.483838|-49.349955|        22:42|        PADRON|  703|NO HORÁRIO|  REALIZANDO ROTA|   VOLTA|   7-2|       1|file:///home/feli...|\n",
      "|    EL313|-25.437491|-49.261078|        22:42|        PADRON|  507|NO HORÁRIO|  REALIZANDO ROTA|CIRCULAR|     6|       0|file:///home/feli...|\n",
      "|    EL320|-25.524845| -49.24804|        22:41|        PADRON|  507|NO HORÁRIO|  REALIZANDO ROTA|CIRCULAR|    12|       1|file:///home/feli...|\n",
      "|    EL323|-25.453988|-49.258961|        22:39|        PADRON|  507|NO HORÁRIO|  REALIZANDO ROTA|CIRCULAR|   9-2|       1|file:///home/feli...|\n",
      "|    EL319|-25.511368|-49.294335|        22:41|        PADRON|  507|NO HORÁRIO|  REALIZANDO ROTA|CIRCULAR|   1-2|       1|file:///home/feli...|\n",
      "|    BC009| -25.43062|-49.281191|        22:41|         COMUM|  870|NO HORÁRIO|  REALIZANDO ROTA|     IDA|     2|       1|file:///home/feli...|\n",
      "|    BA014|-25.430041|-49.350676|        22:42|         COMUM|  870|  ATRASADO|  REALIZANDO ROTA|   VOLTA|     3|       1|file:///home/feli...|\n",
      "|    HI039|-25.499676|-49.347065|        22:42|         COMUM|  658|NO HORÁRIO|  REALIZANDO ROTA|     IDA|     2|       1|file:///home/feli...|\n",
      "|    JI002|-25.494401|-49.299198|        22:42|         COMUM|  658|NO HORÁRIO|  REALIZANDO ROTA|   VOLTA|     3|       1|file:///home/feli...|\n",
      "|    HI049|-25.490723|-49.347216|        22:42|         COMUM|  658|  ATRASADO|  REALIZANDO ROTA|   VOLTA|     6|       1|file:///home/feli...|\n",
      "|    DE719|-25.467763|-49.255323|        22:41|  BIARTICULADO|  REC|          |                 |        |      |       0|file:///home/feli...|\n",
      "|    JE701|-25.437963|-49.313946|        22:42|  BIARTICULADO|  303|NO HORÁRIO|  REALIZANDO ROTA|   VOLTA|     3|       0|file:///home/feli...|\n",
      "|    DE704|-25.436068| -49.30778|        22:41|  BIARTICULADO|  303|NO HORÁRIO|  REALIZANDO ROTA|     IDA|     8|       0|file:///home/feli...|\n",
      "|    JE702| -25.43869|-49.333328|        22:40|  BIARTICULADO|  303|NO HORÁRIO|  REALIZANDO ROTA|     IDA|     5|       0|file:///home/feli...|\n",
      "|    DE707|-25.440203|-49.221405|        22:42|  BIARTICULADO|  303|NO HORÁRIO|  REALIZANDO ROTA|   VOLTA|     9|       0|file:///home/feli...|\n",
      "|    DE716|-25.431448|-49.278678|        22:42|  BIARTICULADO|  303|NO HORÁRIO|  REALIZANDO ROTA|   VOLTA|    19|       0|file:///home/feli...|\n",
      "|    JE846|-25.435753|-49.260778|        22:42|  BIARTICULADO|  303|NO HORÁRIO|  REALIZANDO ROTA|   VOLTA|    13|       0|file:///home/feli...|\n",
      "|    DE695| -25.46812|-49.254258|        22:41|    ARTICULADO|  303|  ATRASADO|     FORA DA ROTA|   VOLTA|     1|       0|file:///home/feli...|\n",
      "|    DE708|-25.469003|-49.208085|        22:42|  BIARTICULADO|  303| ADIANTADO|  REALIZANDO ROTA|   VOLTA|  10-2|       0|file:///home/feli...|\n",
      "|    DE713|-25.468045|-49.254766|        22:38|  BIARTICULADO|  303|  ATRASADO|  REALIZANDO ROTA|   VOLTA|     1|       0|file:///home/feli...|\n",
      "|    DE698|-25.468166|-49.254211|        22:42|    ARTICULADO|  303| ADIANTADO|TIPO INCOMPATIVEL|   VOLTA|  15-2|       0|file:///home/feli...|\n",
      "|    DE714|-25.435715|-49.257245|        22:41|  BIARTICULADO|  303|NO HORÁRIO|  REALIZANDO ROTA|     IDA|  15-2|       0|file:///home/feli...|\n",
      "|    DE700|-25.442115|-49.217848|        22:41|  BIARTICULADO|  303|NO HORÁRIO|  REALIZANDO ROTA|     IDA|     1|       0|file:///home/feli...|\n",
      "|    EA012| -25.46899|-49.255526|        22:42|         COMUM|  REC|          |                 |        |      |       1|file:///home/feli...|\n",
      "|    EI010|-25.495908|-49.275175|        22:42|         COMUM|  657|  ATRASADO|  REALIZANDO ROTA|     IDA|     2|       1|file:///home/feli...|\n",
      "|    GE613|-25.476681|-49.292551|        22:42|    ARTICULADO|  602|NO HORÁRIO|  REALIZANDO ROTA|CIRCULAR|     1|       0|file:///home/feli...|\n",
      "|    GE604|-25.521586|-49.228146|        22:42|    ARTICULADO|  602|NO HORÁRIO|  REALIZANDO ROTA|CIRCULAR|     3|       0|file:///home/feli...|\n",
      "|    HE600|-25.532533|-49.261641|        22:42|    ARTICULADO|  602|NO HORÁRIO|  REALIZANDO ROTA|CIRCULAR|     4|       0|file:///home/feli...|\n",
      "|    HE607| -25.53999|-49.308528|        22:39|    ARTICULADO|  REC|          |                 |        |      |       0|file:///home/feli...|\n",
      "|    HE608|-25.508008|-49.295895|        22:42|    ARTICULADO|  602|NO HORÁRIO|  REALIZANDO ROTA|CIRCULAR|     9|       0|file:///home/feli...|\n",
      "|    HE611|-25.470933|-49.258138|        22:40|    ARTICULADO|  602|NO HORÁRIO|  REALIZANDO ROTA|CIRCULAR|    10|       0|file:///home/feli...|\n",
      "|    HE723|-25.528286|-49.291238|        22:42|  BIARTICULADO|  602|NO HORÁRIO|TIPO INCOMPATIVEL|CIRCULAR|     7|       0|file:///home/feli...|\n",
      "|    HE603|-25.481975| -49.24691|        22:42|    ARTICULADO|  602|NO HORÁRIO|  REALIZANDO ROTA|CIRCULAR|    11|       0|file:///home/feli...|\n",
      "|    HE612|-25.538245|-49.307056|        22:42|    ARTICULADO|  REC|          |                 |        |      |       0|file:///home/feli...|\n",
      "|    BI871|-25.380525|-49.237161|        22:42|MICRO ESPECIAL|  280|NO HORÁRIO|  REALIZANDO ROTA|     IDA|     1|       1|file:///home/feli...|\n",
      "|    BC317|-25.406255|-49.252375|        22:41|       HIBRIDO|  207|NO HORÁRIO|  REALIZANDO ROTA|   VOLTA|     5|       1|file:///home/feli...|\n",
      "|    BC319|-25.432871|-49.276326|        22:41|       HIBRIDO|  207|NO HORÁRIO|  REALIZANDO ROTA|     IDA|   7-2|       1|file:///home/feli...|\n",
      "|    HI041| -25.49206|-49.293365|        22:42|         COMUM|  654|NO HORÁRIO|  REALIZANDO ROTA|     IDA|     1|       1|file:///home/feli...|\n",
      "+---------+----------+----------+-------------+--------------+-----+----------+-----------------+--------+------+--------+--------------------+\n",
      "only showing top 50 rows\n",
      "\n"
     ]
    },
    {
     "data": {
      "text/plain": [
       "['id_onibus',\n",
       " 'latitude',\n",
       " 'longitude',\n",
       " 'tempo_captura',\n",
       " 'tipo_veiculo',\n",
       " 'linha',\n",
       " 'situacao',\n",
       " 'situacao_2',\n",
       " 'sentido',\n",
       " 'tabela',\n",
       " 'adaptado',\n",
       " 'inputFiles']"
      ]
     },
     "execution_count": 1,
     "metadata": {},
     "output_type": "execute_result"
    }
   ],
   "source": [
    "# CWB \n",
    "\n",
    "from pyspark.sql import *\n",
    "from delta import *\n",
    "from pyspark.sql.functions import input_file_name\n",
    "\n",
    "builder = SparkSession.builder.appName(\"topicos\").config(\"spark.sql.extensions\",\"io.delta.sql.DeltaSparkSessionExtension\").config(\"spark.sql.catalog.spark_catalog\",\"org.apache.spark.sql.delta.catalog.DeltaCatalog\")\n",
    "spark = configure_spark_with_delta_pip(builder).getOrCreate()\n",
    "\n",
    "INPUT_PATH = \"/home/felipe/code/topicos_dados/dados/\"\n",
    "BRONZE_PATH = \"/home/felipe/code/deltalake/lake/bronze/\"\n",
    "SILVER_PATH = \"/home/felipe/code/deltalake/lake/silver/\"\n",
    "\n",
    "def teste():\n",
    "    return input_file_name()\n",
    "\n",
    "sp = spark.read.format(\"parquet\").option(\"inferSchema\",\"true\").option(\"header\",\"true\").load(f\"{INPUT_PATH}/cb_micro\").withColumn(\"inputFiles\",input_file_name())\n",
    "sp.show(50)\n",
    "sp.columns\n"
   ]
  },
  {
   "cell_type": "code",
   "execution_count": 11,
   "metadata": {},
   "outputs": [
    {
     "name": "stdout",
     "output_type": "stream",
     "text": [
      "+---------+----------+----------+-------------+--------------+-----+----------+---------------+--------+------+--------+--------------------+--------------------+\n",
      "|id_onibus|  latitude| longitude|tempo_captura|  tipo_veiculo|linha|  situacao|     situacao_2| sentido|tabela|adaptado|          inputFiles|               teste|\n",
      "+---------+----------+----------+-------------+--------------+-----+----------+---------------+--------+------+--------+--------------------+--------------------+\n",
      "|    JI859|-25.453483| -49.28948|        22:42|MICRO ESPECIAL|  762|NO HORÁRIO|REALIZANDO ROTA|   VOLTA|   2-2|       1|file:///home/feli...|2024-01-30T22:42:22Z|\n",
      "|    DN603|-25.481223|-49.196893|        22:38|MICRO ESPECIAL|  463|NO HORÁRIO|REALIZANDO ROTA|     IDA|     2|       1|file:///home/feli...|2024-01-30T22:42:22Z|\n",
      "|    DN608|-25.432205|  -49.2658|        22:42|MICRO ESPECIAL|  463|NO HORÁRIO|REALIZANDO ROTA|   VOLTA|     4|       1|file:///home/feli...|2024-01-30T22:42:22Z|\n",
      "|    GB611|-25.514096|-49.322986|        22:42|    ARTICULADO|  040|NO HORÁRIO|REALIZANDO ROTA|   VOLTA|     5|       1|file:///home/feli...|2024-01-30T22:42:22Z|\n",
      "|    JB604|-25.449036|-49.365315|        22:42|    ARTICULADO|  REC|          |               |        |      |       1|file:///home/feli...|2024-01-30T22:42:22Z|\n",
      "|    HB609|-25.516875|-49.318451|        22:42|    ARTICULADO|  040|NO HORÁRIO|REALIZANDO ROTA|     IDA|    12|       1|file:///home/feli...|2024-01-30T22:42:22Z|\n",
      "|    JB607|-25.401065|-49.334415|        22:42|    ARTICULADO|  040|NO HORÁRIO|REALIZANDO ROTA|   VOLTA|    10|       1|file:///home/feli...|2024-01-30T22:42:22Z|\n",
      "|    JB608|-25.441675| -49.34608|        22:42|    ARTICULADO|  040|NO HORÁRIO|REALIZANDO ROTA|   VOLTA|    17|       1|file:///home/feli...|2024-01-30T22:42:22Z|\n",
      "|    HB694|-25.494071|-49.324508|        22:42|    ARTICULADO|  040|NO HORÁRIO|REALIZANDO ROTA|     IDA|   3-2|       1|file:///home/feli...|2024-01-30T22:42:22Z|\n",
      "|    HB606|-25.477678|-49.332613|        22:42|    ARTICULADO|  040|  ATRASADO|REALIZANDO ROTA|   VOLTA|  22-2|       1|file:///home/feli...|2024-01-30T22:42:22Z|\n",
      "|    JB610|-25.453843|-49.348961|        22:42|    ARTICULADO|  040|NO HORÁRIO|REALIZANDO ROTA|     IDA|   2-2|       1|file:///home/feli...|2024-01-30T22:42:22Z|\n",
      "|    JI603|-25.419908|-49.348435|        22:42|    ARTICULADO|  040|NO HORÁRIO|REALIZANDO ROTA|     IDA|     6|       1|file:///home/feli...|2024-01-30T22:42:22Z|\n",
      "|    JC313|-25.483838|-49.349955|        22:42|        PADRON|  703|NO HORÁRIO|REALIZANDO ROTA|   VOLTA|   7-2|       1|file:///home/feli...|2024-01-30T22:42:22Z|\n",
      "|    EL313|-25.437491|-49.261078|        22:42|        PADRON|  507|NO HORÁRIO|REALIZANDO ROTA|CIRCULAR|     6|       0|file:///home/feli...|2024-01-30T22:42:22Z|\n",
      "|    EL320|-25.524845| -49.24804|        22:41|        PADRON|  507|NO HORÁRIO|REALIZANDO ROTA|CIRCULAR|    12|       1|file:///home/feli...|2024-01-30T22:42:22Z|\n",
      "|    EL323|-25.453988|-49.258961|        22:39|        PADRON|  507|NO HORÁRIO|REALIZANDO ROTA|CIRCULAR|   9-2|       1|file:///home/feli...|2024-01-30T22:42:22Z|\n",
      "|    EL319|-25.511368|-49.294335|        22:41|        PADRON|  507|NO HORÁRIO|REALIZANDO ROTA|CIRCULAR|   1-2|       1|file:///home/feli...|2024-01-30T22:42:22Z|\n",
      "|    BC009| -25.43062|-49.281191|        22:41|         COMUM|  870|NO HORÁRIO|REALIZANDO ROTA|     IDA|     2|       1|file:///home/feli...|2024-01-30T22:42:22Z|\n",
      "|    BA014|-25.430041|-49.350676|        22:42|         COMUM|  870|  ATRASADO|REALIZANDO ROTA|   VOLTA|     3|       1|file:///home/feli...|2024-01-30T22:42:22Z|\n",
      "|    HI039|-25.499676|-49.347065|        22:42|         COMUM|  658|NO HORÁRIO|REALIZANDO ROTA|     IDA|     2|       1|file:///home/feli...|2024-01-30T22:42:22Z|\n",
      "+---------+----------+----------+-------------+--------------+-----+----------+---------------+--------+------+--------+--------------------+--------------------+\n",
      "only showing top 20 rows\n",
      "\n"
     ]
    },
    {
     "data": {
      "text/plain": [
       "StructType([StructField('id_onibus', StringType(), True), StructField('latitude', StringType(), True), StructField('longitude', StringType(), True), StructField('tempo_captura', StringType(), True), StructField('tipo_veiculo', StringType(), True), StructField('linha', StringType(), True), StructField('situacao', StringType(), True), StructField('situacao_2', StringType(), True), StructField('sentido', StringType(), True), StructField('tabela', StringType(), True), StructField('adaptado', StringType(), True), StructField('inputFiles', StringType(), False), StructField('teste', StringType(), True)])"
      ]
     },
     "execution_count": 11,
     "metadata": {},
     "output_type": "execute_result"
    }
   ],
   "source": [
    "# CWB \n",
    "\n",
    "from pyspark.sql import *\n",
    "from delta import *\n",
    "from pyspark.sql.functions import input_file_name, udf, col\n",
    "from pyspark.sql.types import StringType\n",
    "from datetime import datetime, timedelta\n",
    "\n",
    "builder = SparkSession.builder.appName(\"topicos\").config(\"spark.sql.extensions\",\"io.delta.sql.DeltaSparkSessionExtension\").config(\"spark.sql.catalog.spark_catalog\",\"org.apache.spark.sql.delta.catalog.DeltaCatalog\")\n",
    "spark = configure_spark_with_delta_pip(builder).getOrCreate()\n",
    "\n",
    "INPUT_PATH = \"/home/felipe/code/topicos_dados/dados/\"\n",
    "BRONZE_PATH = \"/home/felipe/code/deltalake/lake/bronze/\"\n",
    "SILVER_PATH = \"/home/felipe/code/deltalake/lake/silver/\"\n",
    "\n",
    "\n",
    "def addTimestampQueryTime(filenames):\n",
    "    \"\"\" \n",
    "    Add the column \"query_timestamp\" indicating the timestamp\n",
    "    \n",
    "    file:///home/felipe/code/topicos_dados/dados/cb_micro/1706665101.9679544.parquet -> 1706665101.9679544\n",
    "    \"\"\"\n",
    "    file_name = str(filenames)[54:-8]\n",
    "    time = (datetime.fromtimestamp(float(file_name))).strftime(\"%Y-%m-%dT%H:%M:%SZ\")\n",
    "    return time\n",
    "\n",
    "udf_teste = udf(addTimestampQueryTime,StringType())\n",
    "\n",
    "sp = spark.read.format(\"parquet\").option(\"inferSchema\",\"true\").option(\"header\",\"true\").load(f\"{INPUT_PATH}/cb_micro\").withColumn(\"inputFiles\",input_file_name())\n",
    "sp = sp.withColumn(\"teste\",udf_teste(col(\"inputFiles\")))\n",
    "sp.show(20)\n",
    "sp.schema\n",
    "\n"
   ]
  },
  {
   "cell_type": "code",
   "execution_count": 12,
   "metadata": {},
   "outputs": [
    {
     "name": "stdout",
     "output_type": "stream",
     "text": [
      "+---------+---------+-------------+---------+----------+-------+----------+-----+--------------------+--------------------+\n",
      "|longitude| latitude|tempo_captura|id_onibus|velocidade|sentido|   direcao|linha|          inputFiles|               teste|\n",
      "+---------+---------+-------------+---------+----------+-------+----------+-----+--------------------+--------------------+\n",
      "|-48.10842|-15.92126|1701355514000|   340260|      0.28|  VOLTA|80.9000015|     |file:///home/feli...|2024-01-30T23:20:29Z|\n",
      "|-48.12325|-15.89951|1706128074000|   339784|       0.0|  VOLTA|       0.0|     |file:///home/feli...|2024-01-30T23:20:29Z|\n",
      "|-48.12391|-15.90059|1706315254000|   340073|       0.0|  VOLTA|       0.0|     |file:///home/feli...|2024-01-30T23:20:29Z|\n",
      "|-48.03354|-15.94965|1706518577000|   337633|       0.0|    IDA|137.779166|     |file:///home/feli...|2024-01-30T23:20:29Z|\n",
      "| -47.9946|-15.87532|1706551160000|   337846|       0.0|    IDA|333.434948|     |file:///home/feli...|2024-01-30T23:20:29Z|\n",
      "|-48.10889|-15.92097|1706625138000|   335568|       0.0|    IDA|154.798876|     |file:///home/feli...|2024-01-30T23:20:29Z|\n",
      "|-48.02361|-15.87496|1706636961000|   339105|       0.0|    IDA|      90.0|     |file:///home/feli...|2024-01-30T23:20:29Z|\n",
      "|-47.93532|-15.78702|1706644931000|   335771|      8.61|  VOLTA|35.2276684|     |file:///home/feli...|2024-01-30T23:20:29Z|\n",
      "|-48.02341| -15.8753|1706651817000|   340774|       0.0|    IDA|14.0362434|     |file:///home/feli...|2024-01-30T23:20:29Z|\n",
      "|-48.10898|-15.92114|1706654234000|   337838|       0.0|    IDA|150.945395|     |file:///home/feli...|2024-01-30T23:20:29Z|\n",
      "|-48.12296|-15.89952|1706656423000|   336343|       0.0|    IDA|321.340191|     |file:///home/feli...|2024-01-30T23:20:29Z|\n",
      "|-47.99458|-15.87556|1706656690000|   337331|       0.0|  VOLTA|351.027373|     |file:///home/feli...|2024-01-30T23:20:29Z|\n",
      "|-48.12339|-15.89949|1706659951000|   335339|       0.0|  VOLTA| 108.75865|     |file:///home/feli...|2024-01-30T23:20:29Z|\n",
      "|-48.12365|-15.90051|1706660134000|   340049|       0.0|  VOLTA|317.815556|     |file:///home/feli...|2024-01-30T23:20:29Z|\n",
      "|-48.12455|-15.90012|1706660189000|   339709|       0.0|    IDA|298.610459|     |file:///home/feli...|2024-01-30T23:20:29Z|\n",
      "|-48.12424|-15.90068|1706660301000|   340367|       0.0|    IDA| 281.04094|     |file:///home/feli...|2024-01-30T23:20:29Z|\n",
      "|-48.12314|-15.89958|1706660482000|   339962|       0.0|    IDA|21.8014094|     |file:///home/feli...|2024-01-30T23:20:29Z|\n",
      "|-48.12215|-15.89944|1706661279000|   340961|       0.0|    IDA|     270.0|     |file:///home/feli...|2024-01-30T23:20:29Z|\n",
      "|-48.12214|-15.89952|1706661333000|   340502|       0.0|  VOLTA| 66.037511|     |file:///home/feli...|2024-01-30T23:20:29Z|\n",
      "|-48.12214|-15.89983|1706661514000|   340189|       0.0|    IDA|       0.0|     |file:///home/feli...|2024-01-30T23:20:29Z|\n",
      "+---------+---------+-------------+---------+----------+-------+----------+-----+--------------------+--------------------+\n",
      "only showing top 20 rows\n",
      "\n"
     ]
    },
    {
     "data": {
      "text/plain": [
       "StructType([StructField('longitude', DoubleType(), True), StructField('latitude', DoubleType(), True), StructField('tempo_captura', LongType(), True), StructField('id_onibus', StringType(), True), StructField('velocidade', DoubleType(), True), StructField('sentido', StringType(), True), StructField('direcao', DoubleType(), True), StructField('linha', StringType(), True), StructField('inputFiles', StringType(), False), StructField('teste', StringType(), True)])"
      ]
     },
     "execution_count": 12,
     "metadata": {},
     "output_type": "execute_result"
    }
   ],
   "source": [
    "# BSB\n",
    "\n",
    "from pyspark.sql import *\n",
    "from delta import *\n",
    "from pyspark.sql.functions import input_file_name, udf, col\n",
    "from pyspark.sql.types import StringType\n",
    "from datetime import datetime, timedelta\n",
    "\n",
    "builder = SparkSession.builder.appName(\"topicos\").config(\"spark.sql.extensions\",\"io.delta.sql.DeltaSparkSessionExtension\").config(\"spark.sql.catalog.spark_catalog\",\"org.apache.spark.sql.delta.catalog.DeltaCatalog\")\n",
    "spark = configure_spark_with_delta_pip(builder).getOrCreate()\n",
    "\n",
    "INPUT_PATH = \"/home/felipe/code/topicos_dados/dados/\"\n",
    "BRONZE_PATH = \"/home/felipe/code/deltalake/lake/bronze/\"\n",
    "SILVER_PATH = \"/home/felipe/code/deltalake/lake/silver/\"\n",
    "\n",
    "\n",
    "def addTimestampQueryTime(filenames):\n",
    "    \"\"\" \n",
    "    Add the column \"query_timestamp\" indicating the timestamp\n",
    "    \n",
    "    file:///home/felipe/code/topicos_dados/dados/cb_micro/1706665101.9679544.parquet -> 1706665101.9679544\n",
    "    \"\"\"\n",
    "    file_name = str(filenames)[54:-8]\n",
    "    time = (datetime.fromtimestamp(float(file_name))).strftime(\"%Y-%m-%dT%H:%M:%SZ\")\n",
    "    return time\n",
    "\n",
    "udf_teste = udf(addTimestampQueryTime,StringType())\n",
    "\n",
    "sp = spark.read.format(\"parquet\").option(\"inferSchema\",\"true\").option(\"header\",\"true\").load(f\"{INPUT_PATH}/df_micro\").withColumn(\"inputFiles\",input_file_name())\n",
    "sp = sp.withColumn(\"teste\",udf_teste(col(\"inputFiles\")))\n",
    "sp.show(20)\n",
    "sp.schema\n",
    "\n"
   ]
  },
  {
   "cell_type": "code",
   "execution_count": 16,
   "metadata": {},
   "outputs": [
    {
     "name": "stdout",
     "output_type": "stream",
     "text": [
      "+---------+---------+-------------+---------+----------+-----+--------------------+--------------------+\n",
      "| latitude|longitude|tempo_captura|id_onibus|velocidade|linha|          inputFiles|               teste|\n",
      "+---------+---------+-------------+---------+----------+-----+--------------------+--------------------+\n",
      "|-22,91606|-43,23063|1706751706000|   A29134|        37|  711|file:///home/feli...|2024-01-31T22:43:00Z|\n",
      "|-22,97236|-43,18777|1706751709000|   A29108|        35|  473|file:///home/feli...|2024-01-31T22:43:00Z|\n",
      "|-22,89427|-43,19073|1706751705000|   A29185|        38|  350|file:///home/feli...|2024-01-31T22:43:00Z|\n",
      "|-22,84925|-43,33784|1706751708000|   A29034|        29|  711|file:///home/feli...|2024-01-31T22:43:00Z|\n",
      "|-22,89272|-43,21592|1706751705000|   A29182|        37|  209|file:///home/feli...|2024-01-31T22:43:00Z|\n",
      "|-22,91143|-43,21638|1706751710000|   A29192|        25|  457|file:///home/feli...|2024-01-31T22:43:00Z|\n",
      "|-22,89258|-43,23858|1706751709000|   A29018|         9|  472|file:///home/feli...|2024-01-31T22:43:00Z|\n",
      "|-22,84079|-43,30468|1706751711000|   A29191|        27|  350|file:///home/feli...|2024-01-31T22:43:00Z|\n",
      "|-22,97921|-43,23046|1706751712000|   A29173|        27|  583|file:///home/feli...|2024-01-31T22:43:00Z|\n",
      "|-22,89927|-43,24474|1706751712000|   A29092|        27|  476|file:///home/feli...|2024-01-31T22:43:00Z|\n",
      "|-22,91566|-43,20991|1706751712000|   A29027|         0|  711|file:///home/feli...|2024-01-31T22:43:00Z|\n",
      "|-22,87756|-43,21615|1706751713000|   A29180|         0|  209|file:///home/feli...|2024-01-31T22:43:00Z|\n",
      "| -22,8943|-43,23895|1706751713000|   A29184|         1|  711|file:///home/feli...|2024-01-31T22:43:00Z|\n",
      "|-22,84932|-43,34375|1706751713000|   A29094|        55|  711|file:///home/feli...|2024-01-31T22:43:00Z|\n",
      "|-22,96233|-43,16627|1706751709000|   A29176|         0|  472|file:///home/feli...|2024-01-31T22:43:00Z|\n",
      "|-22,87685|-43,21877|1706751711000|   A29155|        35|  209|file:///home/feli...|2024-01-31T22:43:00Z|\n",
      "|-22,86785|-43,29109|1706751714000|   A29023|         0|  472|file:///home/feli...|2024-01-31T22:43:00Z|\n",
      "|-22,91906|-43,26175|1706751710000|   A29186|        31|  435|file:///home/feli...|2024-01-31T22:43:00Z|\n",
      "| -22,9704|-43,18598|1706751713000|   A29165|         0|  435|file:///home/feli...|2024-01-31T22:43:00Z|\n",
      "|-22,96472|-43,17804|1706751713000|   A29162|        11|  473|file:///home/feli...|2024-01-31T22:43:00Z|\n",
      "+---------+---------+-------------+---------+----------+-----+--------------------+--------------------+\n",
      "only showing top 20 rows\n",
      "\n"
     ]
    },
    {
     "data": {
      "text/plain": [
       "StructType([StructField('latitude', StringType(), True), StructField('longitude', StringType(), True), StructField('tempo_captura', StringType(), True), StructField('id_onibus', StringType(), True), StructField('velocidade', StringType(), True), StructField('linha', StringType(), True), StructField('inputFiles', StringType(), False), StructField('teste', StringType(), True)])"
      ]
     },
     "execution_count": 16,
     "metadata": {},
     "output_type": "execute_result"
    }
   ],
   "source": [
    "# Rio\n",
    "\n",
    "from pyspark.sql import *\n",
    "from delta import *\n",
    "from pyspark.sql.functions import input_file_name, udf, col\n",
    "from pyspark.sql.types import StringType\n",
    "from datetime import datetime, timedelta\n",
    "\n",
    "builder = SparkSession.builder.appName(\"topicos\").config(\"spark.sql.extensions\",\"io.delta.sql.DeltaSparkSessionExtension\").config(\"spark.sql.catalog.spark_catalog\",\"org.apache.spark.sql.delta.catalog.DeltaCatalog\")\n",
    "spark = configure_spark_with_delta_pip(builder).getOrCreate()\n",
    "\n",
    "INPUT_PATH = \"/home/felipe/code/topicos_dados/dados/\"\n",
    "BRONZE_PATH = \"/home/felipe/code/deltalake/lake/bronze/\"\n",
    "SILVER_PATH = \"/home/felipe/code/deltalake/lake/silver/\"\n",
    "\n",
    "\n",
    "def addTimestampQueryTime(filenames):\n",
    "    \"\"\" \n",
    "    Add the column \"query_timestamp\" indicating the timestamp\n",
    "    \n",
    "    file:///home/felipe/code/topicos_dados/dados/cb_micro/1706665101.9679544.parquet -> 1706665101.9679544\n",
    "    \"\"\"\n",
    "    file_name = str(filenames)[54:-8]\n",
    "    time = (datetime.fromtimestamp(float(file_name))).strftime(\"%Y-%m-%dT%H:%M:%SZ\")\n",
    "    return time\n",
    "\n",
    "udf_teste = udf(addTimestampQueryTime,StringType())\n",
    "\n",
    "sp = spark.read.format(\"parquet\").option(\"inferSchema\",\"true\").option(\"header\",\"true\").load(f\"{INPUT_PATH}/rj_micro\").withColumn(\"inputFiles\",input_file_name())\n",
    "sp = sp.withColumn(\"teste\",udf_teste(col(\"inputFiles\")))\n",
    "sp.show(20)\n",
    "sp.schema\n",
    "\n"
   ]
  }
 ],
 "metadata": {
  "kernelspec": {
   "display_name": "Python 3",
   "language": "python",
   "name": "python3"
  },
  "language_info": {
   "codemirror_mode": {
    "name": "ipython",
    "version": 3
   },
   "file_extension": ".py",
   "mimetype": "text/x-python",
   "name": "python",
   "nbconvert_exporter": "python",
   "pygments_lexer": "ipython3",
   "version": "3.11.4"
  }
 },
 "nbformat": 4,
 "nbformat_minor": 2
}
