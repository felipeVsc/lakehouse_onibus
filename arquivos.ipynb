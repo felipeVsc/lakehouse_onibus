{
 "cells": [
  {
   "cell_type": "code",
   "execution_count": 13,
   "metadata": {},
   "outputs": [
    {
     "name": "stdout",
     "output_type": "stream",
     "text": [
      "+-------------------+-------------------+--------------------+---------+-------+-------------------+--------------------+--------------------+\n",
      "|           latitude|          longitude|       tempo_captura|id_onibus|      c|                lt0|                 lt1|          inputFiles|\n",
      "+-------------------+-------------------+--------------------+---------+-------+-------------------+--------------------+--------------------+\n",
      "|         -23.552871|-46.647738000000004|2024-01-31T01:39:09Z|    71212|609F-10|TERM. PRINC. ISABEL|       CHÁC. SANTANA|file:///home/feli...|\n",
      "|        -23.6532175| -46.74036099999999|2024-01-31T01:38:46Z|    71739|609F-10|TERM. PRINC. ISABEL|       CHÁC. SANTANA|file:///home/feli...|\n",
      "|        -23.6680755|         -46.748797|2024-01-31T01:38:37Z|    71361|609F-10|TERM. PRINC. ISABEL|       CHÁC. SANTANA|file:///home/feli...|\n",
      "|         -23.534974|        -46.6443435|2024-01-31T01:38:55Z|    71740|609F-10|TERM. PRINC. ISABEL|       CHÁC. SANTANA|file:///home/feli...|\n",
      "|        -23.6168605| -46.70167549999999|2024-01-31T01:38:36Z|    71839|609F-10|TERM. PRINC. ISABEL|       CHÁC. SANTANA|file:///home/feli...|\n",
      "|      -23.574599125|        -46.6680825|2024-01-31T01:38:47Z|    71844|609F-10|TERM. PRINC. ISABEL|       CHÁC. SANTANA|file:///home/feli...|\n",
      "|-23.668001500000003|        -46.7491535|2024-01-31T01:38:41Z|    71860|609F-10|TERM. PRINC. ISABEL|       CHÁC. SANTANA|file:///home/feli...|\n",
      "|         -23.541446|-46.536075499999995|2024-01-31T01:39:06Z|    48788|407I-10|      METRÔ BRESSER|CONJ. MANOEL DA N...|file:///home/feli...|\n",
      "|-23.549667499999998|-46.483762999999996|2024-01-31T01:38:43Z|    48985|407I-10|      METRÔ BRESSER|CONJ. MANOEL DA N...|file:///home/feli...|\n",
      "|        -23.5433355| -46.48539675000001|2024-01-31T01:38:46Z|    48445|407I-10|      METRÔ BRESSER|CONJ. MANOEL DA N...|file:///home/feli...|\n",
      "|        -23.5955305|           -46.6799|2024-01-31T01:39:01Z|    63370|576M-10|          PINHEIROS|           VL. CLARA|file:///home/feli...|\n",
      "|        -23.6368035|         -46.641181|2024-01-31T01:38:57Z|    63366|576M-10|          PINHEIROS|           VL. CLARA|file:///home/feli...|\n",
      "|-23.678067499999997|-46.640125499999996|2024-01-31T01:39:07Z|    63367|576M-10|          PINHEIROS|           VL. CLARA|file:///home/feli...|\n",
      "|         -23.565959|        -46.6944145|2024-01-31T01:38:32Z|    63369|576M-10|          PINHEIROS|           VL. CLARA|file:///home/feli...|\n",
      "|-23.678067499999997|-46.640125499999996|2024-01-31T01:39:08Z|    63344|576M-10|          PINHEIROS|           VL. CLARA|file:///home/feli...|\n",
      "|         -23.570103|         -46.486686|2024-01-31T01:38:36Z|    45676|3778-10|       METRÔ CARRÃO|  JD. STA. TEREZINHA|file:///home/feli...|\n",
      "|        -23.5753505|-46.497097499999995|2024-01-31T01:38:30Z|    45474|3778-10|       METRÔ CARRÃO|  JD. STA. TEREZINHA|file:///home/feli...|\n",
      "|         -23.570103|         -46.486686|2024-01-31T01:38:58Z|    45530|3778-10|       METRÔ CARRÃO|  JD. STA. TEREZINHA|file:///home/feli...|\n",
      "|-23.568366875000002|       -46.50955725|2024-01-31T01:39:13Z|    45327|3778-10|       METRÔ CARRÃO|  JD. STA. TEREZINHA|file:///home/feli...|\n",
      "|       -23.67216275|        -46.6441475|2024-01-31T01:38:45Z|    68258|5702-10|    METRÔ JABAQUARA|REFÚGIO STA. TERE...|file:///home/feli...|\n",
      "|          -23.69827|         -46.646032|2024-01-31T01:39:08Z|    68884|5702-10|    METRÔ JABAQUARA|REFÚGIO STA. TERE...|file:///home/feli...|\n",
      "|        -23.6980845|        -46.6460855|2024-01-31T01:38:52Z|    68888|5702-10|    METRÔ JABAQUARA|REFÚGIO STA. TERE...|file:///home/feli...|\n",
      "|-23.543414499999997|-46.464752000000004|2024-01-31T01:38:45Z|    36153|407T-10|     METRÔ ITAQUERA|           JD. REDIL|file:///home/feli...|\n",
      "|       -23.53781325|       -46.44005625|2024-01-31T01:38:31Z|    36325|407T-10|     METRÔ ITAQUERA|           JD. REDIL|file:///home/feli...|\n",
      "|        -23.5429455|       -46.46791075|2024-01-31T01:38:43Z|    36687|407T-10|     METRÔ ITAQUERA|           JD. REDIL|file:///home/feli...|\n",
      "|        -23.5384515|       -46.44110425|2024-01-31T01:38:55Z|    36595|407T-10|     METRÔ ITAQUERA|           JD. REDIL|file:///home/feli...|\n",
      "|-23.520215999999998|-46.700196000000005|2024-01-31T01:39:03Z|    11459|8300-10|         TERM. LAPA|      TERM. PIRITUBA|file:///home/feli...|\n",
      "|        -23.4935255|        -46.7093165|2024-01-31T01:39:03Z|    11720|8300-10|         TERM. LAPA|      TERM. PIRITUBA|file:///home/feli...|\n",
      "|-23.520215999999998|-46.700196000000005|2024-01-31T01:38:55Z|    11877|8300-10|         TERM. LAPA|      TERM. PIRITUBA|file:///home/feli...|\n",
      "|       -23.52114525|       -46.38738525|2024-01-31T01:38:52Z|    36039|2008-10|CPTM ITAIM PAULISTA|JD. NSA. SRA. DO ...|file:///home/feli...|\n",
      "|       -23.49986375|         -46.399138|2024-01-31T01:38:52Z|    36019|2008-10|CPTM ITAIM PAULISTA|JD. NSA. SRA. DO ...|file:///home/feli...|\n",
      "|       -23.52026875|          -46.38865|2024-01-31T01:38:50Z|    36060|2008-10|CPTM ITAIM PAULISTA|JD. NSA. SRA. DO ...|file:///home/feli...|\n",
      "|       -23.52114525|       -46.38738525|2024-01-31T01:38:41Z|    36086|2008-10|CPTM ITAIM PAULISTA|JD. NSA. SRA. DO ...|file:///home/feli...|\n",
      "|        -23.6469585|        -46.6748945|2024-01-31T01:38:44Z|    63676|5652-10|         PÇA. DA SÉ|   JD. IV CENTENÁRIO|file:///home/feli...|\n",
      "|-23.597020999999998|       -46.65102775|2024-01-31T01:39:09Z|    63269|5652-10|         PÇA. DA SÉ|   JD. IV CENTENÁRIO|file:///home/feli...|\n",
      "|         -23.711728|         -46.686792|2024-01-31T01:39:08Z|    63162|5652-10|         PÇA. DA SÉ|   JD. IV CENTENÁRIO|file:///home/feli...|\n",
      "|       -23.67923275|        -46.6859935|2024-01-31T01:38:37Z|    63334|5652-10|         PÇA. DA SÉ|   JD. IV CENTENÁRIO|file:///home/feli...|\n",
      "|-23.522572250000003| -46.66452174999999|2024-01-31T01:38:28Z|    11707|978L-10|TERM. PRINC. ISABEL|  TERM. CACHOEIRINHA|file:///home/feli...|\n",
      "|-23.521850999999998|        -46.4244515|2024-01-31T01:38:27Z|    32844|273V-10|        METRÔ PENHA|PARADA XV DE NOVE...|file:///home/feli...|\n",
      "|-23.519732749999996|-46.437813375000005|2024-01-31T01:39:05Z|    32874|273V-10|        METRÔ PENHA|PARADA XV DE NOVE...|file:///home/feli...|\n",
      "|      -23.489837625|       -46.76664975|2024-01-31T01:38:39Z|    16429|8013-10|               LAPA|  TERM. JD. BRITANIA|file:///home/feli...|\n",
      "|        -23.5134245|-46.726335000000006|2024-01-31T01:38:18Z|    16376|8013-10|               LAPA|  TERM. JD. BRITANIA|file:///home/feli...|\n",
      "|      -23.436305125|        -46.7860735|2024-01-31T01:38:52Z|    16349|8013-10|               LAPA|  TERM. JD. BRITANIA|file:///home/feli...|\n",
      "|         -23.516265|         -46.587981|2024-01-31T01:39:03Z|    26507|172J-10|            TATUAPÉ|          JD. BRASIL|file:///home/feli...|\n",
      "|         -23.489365|       -46.56996025|2024-01-31T01:35:15Z|    26105|172J-10|            TATUAPÉ|          JD. BRASIL|file:///home/feli...|\n",
      "|         -23.531266|-46.578759250000004|2024-01-31T01:38:46Z|    26521|172J-10|            TATUAPÉ|          JD. BRASIL|file:///home/feli...|\n",
      "|        -23.5306105|-46.583994000000004|2024-01-31T01:39:02Z|    26420|172J-10|            TATUAPÉ|          JD. BRASIL|file:///home/feli...|\n",
      "|-23.479367500000002|         -46.568922|2024-01-31T01:38:50Z|    26305|172J-10|            TATUAPÉ|          JD. BRASIL|file:///home/feli...|\n",
      "|        -23.6146805|         -46.470593|2024-01-31T01:38:55Z|    55012|3099-10|   JD. DA CONQUISTA|    HOSP. SÃO MATEUS|file:///home/feli...|\n",
      "|-23.593412875000002|-46.488488499999995|2024-01-31T01:38:41Z|    55017|3099-10|   JD. DA CONQUISTA|    HOSP. SÃO MATEUS|file:///home/feli...|\n",
      "+-------------------+-------------------+--------------------+---------+-------+-------------------+--------------------+--------------------+\n",
      "only showing top 50 rows\n",
      "\n"
     ]
    },
    {
     "data": {
      "text/plain": [
       "['latitude',\n",
       " 'longitude',\n",
       " 'tempo_captura',\n",
       " 'id_onibus',\n",
       " 'c',\n",
       " 'lt0',\n",
       " 'lt1',\n",
       " 'inputFiles']"
      ]
     },
     "execution_count": 13,
     "metadata": {},
     "output_type": "execute_result"
    }
   ],
   "source": [
    "from pyspark.sql import *\n",
    "from delta import *\n",
    "from pyspark.sql.functions import input_file_name\n",
    "\n",
    "builder = SparkSession.builder.appName(\"topicos\").config(\"spark.sql.extensions\",\"io.delta.sql.DeltaSparkSessionExtension\").config(\"spark.sql.catalog.spark_catalog\",\"org.apache.spark.sql.delta.catalog.DeltaCatalog\")\n",
    "spark = configure_spark_with_delta_pip(builder).getOrCreate()\n",
    "\n",
    "INPUT_PATH = \"/home/felipe/code/topicos_dados/dados/\"\n",
    "BRONZE_PATH = \"/home/felipe/code/deltalake/lake/bronze/\"\n",
    "SILVER_PATH = \"/home/felipe/code/deltalake/lake/silver/\"\n",
    "\n",
    "def teste():\n",
    "    return input_file_name()\n",
    "\n",
    "sp = spark.read.format(\"parquet\").option(\"inferSchema\",\"true\").option(\"header\",\"true\").load(f\"{INPUT_PATH}/sp_micro\").withColumn(\"inputFiles\",input_file_name())\n",
    "sp.show(50)\n",
    "sp.columns\n"
   ]
  },
  {
   "cell_type": "code",
   "execution_count": 12,
   "metadata": {},
   "outputs": [
    {
     "name": "stdout",
     "output_type": "stream",
     "text": [
      "+--------------------+\n",
      "|          inputFiles|\n",
      "+--------------------+\n",
      "|file:///home/feli...|\n",
      "|file:///home/feli...|\n",
      "|file:///home/feli...|\n",
      "|file:///home/feli...|\n",
      "|file:///home/feli...|\n",
      "+--------------------+\n",
      "only showing top 5 rows\n",
      "\n"
     ]
    }
   ],
   "source": [
    "sp = spark.read.format(\"parquet\").option(\"inferSchema\",\"true\").option(\"header\",\"true\").load(f\"{INPUT_PATH}/sp_micro\").withColumn(\"inputFiles\",input_file_name())\n",
    "sp.select(\"inputFiles\").show(5)\n",
    "\n"
   ]
  }
 ],
 "metadata": {
  "kernelspec": {
   "display_name": "Python 3",
   "language": "python",
   "name": "python3"
  },
  "language_info": {
   "codemirror_mode": {
    "name": "ipython",
    "version": 3
   },
   "file_extension": ".py",
   "mimetype": "text/x-python",
   "name": "python",
   "nbconvert_exporter": "python",
   "pygments_lexer": "ipython3",
   "version": "3.11.4"
  }
 },
 "nbformat": 4,
 "nbformat_minor": 2
}
