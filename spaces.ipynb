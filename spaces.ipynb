{
 "cells": [
  {
   "cell_type": "code",
   "execution_count": 5,
   "metadata": {},
   "outputs": [
    {
     "name": "stdout",
     "output_type": "stream",
     "text": [
      "{'ResponseMetadata': {'HTTPStatusCode': 200, 'HTTPHeaders': {'date': 'Sun, 25 Feb 2024 23:10:34 GMT', 'content-length': '318', 'content-type': 'text/xml; charset=utf-8', 'strict-transport-security': 'max-age=15552000; includeSubDomains; preload', 'x-envoy-upstream-healthchecked-cluster': ''}, 'RetryAttempts': 0}, 'Buckets': [{'Name': 'brbus-dataset', 'CreationDate': datetime.datetime(2024, 2, 20, 12, 47, 8, 928000, tzinfo=tzutc())}], 'Owner': {'DisplayName': '15685762', 'ID': '15685762'}}\n",
      "Spaces List: ['brbus-dataset']\n",
      "[{'Name': 'brbus-dataset', 'CreationDate': datetime.datetime(2024, 2, 20, 12, 47, 8, 928000, tzinfo=tzutc())}]\n"
     ]
    }
   ],
   "source": [
    "import os\n",
    "import boto3\n",
    "\n",
    "SPACES_KEY = \"DO00LNFAEQRLTA82CJCM\"\n",
    "SPACES_SECRET = \"cOWHXzPEeesRVZSJDp/maav9CcnqYyyaOFh2HNWHcJ0\"\n",
    "\n",
    "session = boto3.session.Session()\n",
    "client = session.client('s3',\n",
    "                        region_name='nyc3',\n",
    "                        endpoint_url='https://nyc3.digitaloceanspaces.com',\n",
    "                        aws_access_key_id=SPACES_KEY,\n",
    "                        aws_secret_access_key=SPACES_SECRET)\n",
    "\n",
    "\n",
    "response = client.list_buckets()\n",
    "print(response)\n",
    "\n",
    "spaces = [space['Name'] for space in response['Buckets']]\n",
    "print(\"Spaces List: %s\" % spaces)\n",
    "\n",
    "print(response[\"Buckets\"])\n",
    "\n"
   ]
  },
  {
   "cell_type": "code",
   "execution_count": 7,
   "metadata": {},
   "outputs": [],
   "source": [
    "SPACES_KEY = \"DO00LNFAEQRLTA82CJCM\"\n",
    "SPACES_SECRET = \"cOWHXzPEeesRVZSJDp/maav9CcnqYyyaOFh2HNWHcJ0\"\n",
    "\n",
    "session = boto3.session.Session()\n",
    "client = session.client('s3',\n",
    "                        region_name='nyc3',\n",
    "                        endpoint_url='https://nyc3.digitaloceanspaces.com',\n",
    "                        aws_access_key_id=SPACES_KEY,\n",
    "                        aws_secret_access_key=SPACES_SECRET)\n",
    "\n",
    "\n",
    "client.upload_file(\"/home/felipe/code/topicos_dados/dados/sp_micro/1706665155.5327442.parquet\",'brbus-dataset','bronze/sp/1706665155.5327442.parquet')\n"
   ]
  },
  {
   "cell_type": "code",
   "execution_count": 5,
   "metadata": {},
   "outputs": [
    {
     "name": "stdout",
     "output_type": "stream",
     "text": [
      "0\n",
      "1\n",
      "2\n",
      "3\n",
      "4\n",
      "5\n",
      "6\n",
      "7\n",
      "8\n",
      "9\n",
      "10\n",
      "11\n",
      "12\n",
      "13\n",
      "14\n",
      "15\n",
      "16\n",
      "17\n",
      "18\n",
      "19\n"
     ]
    }
   ],
   "source": [
    "import os\n",
    "import boto3\n",
    "SPACES_KEY = \"DO00LNFAEQRLTA82CJCM\"\n",
    "SPACES_SECRET = \"cOWHXzPEeesRVZSJDp/maav9CcnqYyyaOFh2HNWHcJ0\"\n",
    "\n",
    "session = boto3.session.Session()\n",
    "client = session.client('s3',\n",
    "                        region_name='nyc3',\n",
    "                        endpoint_url='https://nyc3.digitaloceanspaces.com',\n",
    "                        aws_access_key_id=SPACES_KEY,\n",
    "                        aws_secret_access_key=SPACES_SECRET)\n",
    "\n",
    "\n",
    "\n",
    "# files_list = []\n",
    "for city in [\"rj\",\"sp\",\"df\",\"cwb\"]:\n",
    "    path = f\"/home/felipe/dados_vm/{city}\"\n",
    "    for number,filename in enumerate(os.listdir(path)):\n",
    "        # files_list.append(filename)\n",
    "        client.upload_file(f\"/home/felipe/dados_vm/{city}/{filename}\",'brbus-dataset',f'bronze/{city}/{filename}')\n",
    "        print(number)\n",
    "\n",
    "    "
   ]
  }
 ],
 "metadata": {
  "kernelspec": {
   "display_name": "Python 3",
   "language": "python",
   "name": "python3"
  },
  "language_info": {
   "codemirror_mode": {
    "name": "ipython",
    "version": 3
   },
   "file_extension": ".py",
   "mimetype": "text/x-python",
   "name": "python",
   "nbconvert_exporter": "python",
   "pygments_lexer": "ipython3",
   "version": "3.11.4"
  }
 },
 "nbformat": 4,
 "nbformat_minor": 2
}
